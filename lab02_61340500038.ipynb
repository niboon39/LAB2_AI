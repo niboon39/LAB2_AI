{
 "cells": [
  {
   "cell_type": "markdown",
   "metadata": {
    "id": "vnegZrDEXhOS"
   },
   "source": [
    "# Niboon Boonprakob 61340500038"
   ]
  },
  {
   "cell_type": "markdown",
   "metadata": {
    "id": "6qlxuVZfFXd0"
   },
   "source": [
    "# 2 Sentiment Analysis\n",
    "## 2.2 Movie Review Data\n",
    "\n",
    "Let us first start by looking at the data provided with the exercise. We have positive and negative movie reviews labeled by human readers, all positive and negative reviews are in the ‘pos’ and ‘neg’ folders respectively. If you look in- side a sample file, you will see that these review messages have been ‘tokenized’, where all words are separated from punctuations.\n",
    "There are approximately 1000 files in each category with files names starting with cv000, cv001, cv002 and so on. You will split the dataset into training set and testing set.\n",
    "\n",
    "1. Write some code to load the data from text files."
   ]
  },
  {
   "cell_type": "code",
   "execution_count": 4,
   "metadata": {
    "colab": {
     "base_uri": "https://localhost:8080/"
    },
    "executionInfo": {
     "elapsed": 84750,
     "status": "ok",
     "timestamp": 1623927870982,
     "user": {
      "displayName": "Niboon Boonprakob",
      "photoUrl": "https://lh3.googleusercontent.com/a-/AOh14GgAUCLlgVyy2cNFoPZnHaenGoKGb_v_5vJby_xl_Q=s64",
      "userId": "06135737577210342247"
     },
     "user_tz": -420
    },
    "id": "SLrxUBf5o3Nx",
    "outputId": "0f8be78e-a238-4aa2-e13e-b6f44f8b5677"
   },
   "outputs": [
    {
     "name": "stdout",
     "output_type": "stream",
     "text": [
      "Mounted at /content/drive\n"
     ]
    }
   ],
   "source": [
    "from google.colab import drive\n",
    "drive.mount('/content/drive')"
   ]
  },
  {
   "cell_type": "code",
   "execution_count": 1,
   "metadata": {
    "executionInfo": {
     "elapsed": 339,
     "status": "ok",
     "timestamp": 1623927873340,
     "user": {
      "displayName": "Niboon Boonprakob",
      "photoUrl": "https://lh3.googleusercontent.com/a-/AOh14GgAUCLlgVyy2cNFoPZnHaenGoKGb_v_5vJby_xl_Q=s64",
      "userId": "06135737577210342247"
     },
     "user_tz": -420
    },
    "id": "ifcUJZOBFXd1"
   },
   "outputs": [],
   "source": [
    "from os import listdir\n",
    "from os.path import join\n",
    "from collections import Counter"
   ]
  },
  {
   "cell_type": "code",
   "execution_count": 2,
   "metadata": {
    "executionInfo": {
     "elapsed": 7,
     "status": "ok",
     "timestamp": 1623927875009,
     "user": {
      "displayName": "Niboon Boonprakob",
      "photoUrl": "https://lh3.googleusercontent.com/a-/AOh14GgAUCLlgVyy2cNFoPZnHaenGoKGb_v_5vJby_xl_Q=s64",
      "userId": "06135737577210342247"
     },
     "user_tz": -420
    },
    "id": "4mPD09a3FXd2"
   },
   "outputs": [],
   "source": [
    "# function load file text \n",
    "\n",
    "def load_data (filename):\n",
    "    file = open(filename , \"r\")\n",
    "    text = file.read() # read all \n",
    "    file.close()\n",
    "    return text\n"
   ]
  },
  {
   "cell_type": "code",
   "execution_count": 4,
   "metadata": {
    "colab": {
     "base_uri": "https://localhost:8080/",
     "height": 122
    },
    "executionInfo": {
     "elapsed": 1020,
     "status": "ok",
     "timestamp": 1623927960883,
     "user": {
      "displayName": "Niboon Boonprakob",
      "photoUrl": "https://lh3.googleusercontent.com/a-/AOh14GgAUCLlgVyy2cNFoPZnHaenGoKGb_v_5vJby_xl_Q=s64",
      "userId": "06135737577210342247"
     },
     "user_tz": -420
    },
    "id": "GD4STRJgFXd2",
    "outputId": "ae126a1c-073b-4ba2-a57c-d2d088774cd4"
   },
   "outputs": [],
   "source": [
    "# load_data(\"review_polarity/txt_sentoken/neg/cv000_29416.txt\")"
   ]
  },
  {
   "cell_type": "code",
   "execution_count": 5,
   "metadata": {
    "executionInfo": {
     "elapsed": 708782,
     "status": "ok",
     "timestamp": 1623928702602,
     "user": {
      "displayName": "Niboon Boonprakob",
      "photoUrl": "https://lh3.googleusercontent.com/a-/AOh14GgAUCLlgVyy2cNFoPZnHaenGoKGb_v_5vJby_xl_Q=s64",
      "userId": "06135737577210342247"
     },
     "user_tz": -420
    },
    "id": "UJYoWq-EFXd3"
   },
   "outputs": [],
   "source": [
    "text_all = []\n",
    "\n",
    "directory = \"review_polarity/txt_sentoken/neg\"\n",
    "for filename in listdir(directory): \n",
    "    if not filename.endswith(\".txt\"):\n",
    "        continue\n",
    "    path = directory + \"/\" + filename\n",
    "    file = open(path)\n",
    "    text = file.read()\n",
    "    file.close()\n",
    "#     print(text)\n",
    "    text_all.append(text)\n",
    "    \n",
    "directory = \"review_polarity/txt_sentoken/pos\"\n",
    "for filename in listdir(directory): \n",
    "    if not filename.endswith(\".txt\"):\n",
    "        continue\n",
    "    path = directory + \"/\" + filename\n",
    "    file = open(path)\n",
    "    text = file.read()\n",
    "    file.close()\n",
    "     #print(text)\n",
    "    text_all.append(text)"
   ]
  },
  {
   "cell_type": "code",
   "execution_count": 6,
   "metadata": {
    "executionInfo": {
     "elapsed": 30,
     "status": "ok",
     "timestamp": 1623928702605,
     "user": {
      "displayName": "Niboon Boonprakob",
      "photoUrl": "https://lh3.googleusercontent.com/a-/AOh14GgAUCLlgVyy2cNFoPZnHaenGoKGb_v_5vJby_xl_Q=s64",
      "userId": "06135737577210342247"
     },
     "user_tz": -420
    },
    "id": "AkfR34BaFXd4"
   },
   "outputs": [],
   "source": [
    "# text_all"
   ]
  },
  {
   "cell_type": "code",
   "execution_count": 7,
   "metadata": {
    "colab": {
     "base_uri": "https://localhost:8080/",
     "height": 314
    },
    "executionInfo": {
     "elapsed": 5370,
     "status": "ok",
     "timestamp": 1623928857624,
     "user": {
      "displayName": "Niboon Boonprakob",
      "photoUrl": "https://lh3.googleusercontent.com/a-/AOh14GgAUCLlgVyy2cNFoPZnHaenGoKGb_v_5vJby_xl_Q=s64",
      "userId": "06135737577210342247"
     },
     "user_tz": -420
    },
    "id": "xGLugjQ_FXd-",
    "outputId": "e9faadc3-b57b-4db7-8208-324ae000749e"
   },
   "outputs": [
    {
     "name": "stdout",
     "output_type": "stream",
     "text": [
      "Requirement already satisfied: nltk in /home/niboon_b/anaconda3/lib/python3.8/site-packages (3.6.1)\n",
      "Collecting nltk\n",
      "  Downloading nltk-3.6.2-py3-none-any.whl (1.5 MB)\n",
      "\u001b[K     |████████████████████████████████| 1.5 MB 1.5 MB/s eta 0:00:01\n",
      "\u001b[?25hRequirement already satisfied: joblib in /home/niboon_b/anaconda3/lib/python3.8/site-packages (from nltk) (1.0.1)\n",
      "Requirement already satisfied: click in /home/niboon_b/anaconda3/lib/python3.8/site-packages (from nltk) (7.1.2)\n",
      "Requirement already satisfied: regex in /home/niboon_b/anaconda3/lib/python3.8/site-packages (from nltk) (2021.4.4)\n",
      "Requirement already satisfied: tqdm in /home/niboon_b/anaconda3/lib/python3.8/site-packages (from nltk) (4.59.0)\n",
      "Installing collected packages: nltk\n",
      "  Attempting uninstall: nltk\n",
      "    Found existing installation: nltk 3.6.1\n",
      "    Uninstalling nltk-3.6.1:\n",
      "      Successfully uninstalled nltk-3.6.1\n",
      "Successfully installed nltk-3.6.2\n"
     ]
    }
   ],
   "source": [
    "# !pip install -U nltk"
   ]
  },
  {
   "cell_type": "code",
   "execution_count": 8,
   "metadata": {
    "id": "iEt3lNvJFXd-"
   },
   "outputs": [
    {
     "name": "stdout",
     "output_type": "stream",
     "text": [
      "showing info https://raw.githubusercontent.com/nltk/nltk_data/gh-pages/index.xml\n"
     ]
    },
    {
     "data": {
      "text/plain": [
       "True"
      ]
     },
     "execution_count": 8,
     "metadata": {},
     "output_type": "execute_result"
    }
   ],
   "source": [
    "import nltk\n",
    "# nltk.download()"
   ]
  },
  {
   "cell_type": "code",
   "execution_count": 9,
   "metadata": {
    "executionInfo": {
     "elapsed": 1863,
     "status": "ok",
     "timestamp": 1623928786376,
     "user": {
      "displayName": "Niboon Boonprakob",
      "photoUrl": "https://lh3.googleusercontent.com/a-/AOh14GgAUCLlgVyy2cNFoPZnHaenGoKGb_v_5vJby_xl_Q=s64",
      "userId": "06135737577210342247"
     },
     "user_tz": -420
    },
    "id": "RMymtor9FXd_"
   },
   "outputs": [],
   "source": [
    "# Clean text data \n",
    "from nltk.corpus import stopwords\n",
    "import string \n",
    "def clean_text(data):\n",
    "    dataframe = data.split()\n",
    "    table = str.maketrans(\"\",\"\",string.punctuation)\n",
    "    dataframe = [w.translate(table) for w in dataframe]\n",
    "    dataframe = [word for word in dataframe if word.isalpha()]\n",
    "\n",
    "    stop_words = set(stopwords.words('english'))\n",
    "    dataframe = [w for w in dataframe if not w in stop_words]\n",
    "\n",
    "    dataframe = [word for word in dataframe if len(word) >1 ]\n",
    "    return dataframe"
   ]
  },
  {
   "cell_type": "code",
   "execution_count": 10,
   "metadata": {
    "executionInfo": {
     "elapsed": 8,
     "status": "ok",
     "timestamp": 1623928786380,
     "user": {
      "displayName": "Niboon Boonprakob",
      "photoUrl": "https://lh3.googleusercontent.com/a-/AOh14GgAUCLlgVyy2cNFoPZnHaenGoKGb_v_5vJby_xl_Q=s64",
      "userId": "06135737577210342247"
     },
     "user_tz": -420
    },
    "id": "QGqSYSgpFXd_"
   },
   "outputs": [],
   "source": [
    "def all_text (directory , vocab):\n",
    "    load_line = []\n",
    "    for filename in listdir(directory):\n",
    "        if not filename.endswith(\".txt\"):\n",
    "            continue\n",
    "        path = directory + \"/\" + filename\n",
    "        #add_text_to_vocab(path , vocab)\n",
    "        load = add_text_to_vocab(path , vocab)\n",
    "        load_line.append(load)\n",
    "    return load_line"
   ]
  },
  {
   "cell_type": "code",
   "execution_count": 11,
   "metadata": {
    "executionInfo": {
     "elapsed": 7,
     "status": "ok",
     "timestamp": 1623928786381,
     "user": {
      "displayName": "Niboon Boonprakob",
      "photoUrl": "https://lh3.googleusercontent.com/a-/AOh14GgAUCLlgVyy2cNFoPZnHaenGoKGb_v_5vJby_xl_Q=s64",
      "userId": "06135737577210342247"
     },
     "user_tz": -420
    },
    "id": "jovMufjdFXeA"
   },
   "outputs": [],
   "source": [
    "def add_text_to_vocab(filename , vocab):\n",
    "    text = load_data(filename) # load test\n",
    "    dataframe = clean_text(text)\n",
    "    vocab.update(dataframe)\n",
    "    # filter vocab \n",
    "    dataframe = [w for w in dataframe if w in vocab]\n",
    "    return ''.join(dataframe)"
   ]
  },
  {
   "cell_type": "code",
   "execution_count": 12,
   "metadata": {
    "colab": {
     "base_uri": "https://localhost:8080/",
     "height": 1000
    },
    "executionInfo": {
     "elapsed": 352,
     "status": "error",
     "timestamp": 1623928875692,
     "user": {
      "displayName": "Niboon Boonprakob",
      "photoUrl": "https://lh3.googleusercontent.com/a-/AOh14GgAUCLlgVyy2cNFoPZnHaenGoKGb_v_5vJby_xl_Q=s64",
      "userId": "06135737577210342247"
     },
     "user_tz": -420
    },
    "id": "-76o3wZDFXeA",
    "outputId": "60f9b954-8e1e-419f-9c06-03c69a51313d"
   },
   "outputs": [],
   "source": [
    "# define vocab (pos , neg)\n",
    "vocab = Counter()\n",
    "vocab_pos = all_text(\"review_polarity/txt_sentoken/pos\",vocab)\n",
    "vocab_neg = all_text(\"review_polarity/txt_sentoken/neg\",vocab)"
   ]
  },
  {
   "cell_type": "code",
   "execution_count": 13,
   "metadata": {
    "colab": {
     "base_uri": "https://localhost:8080/"
    },
    "executionInfo": {
     "elapsed": 6,
     "status": "ok",
     "timestamp": 1623928790084,
     "user": {
      "displayName": "Niboon Boonprakob",
      "photoUrl": "https://lh3.googleusercontent.com/a-/AOh14GgAUCLlgVyy2cNFoPZnHaenGoKGb_v_5vJby_xl_Q=s64",
      "userId": "06135737577210342247"
     },
     "user_tz": -420
    },
    "id": "Ixpm9-hJFXeA",
    "outputId": "9f20f1de-4c21-45d7-e1a5-0e475c28918c"
   },
   "outputs": [
    {
     "data": {
      "text/plain": [
       "46557"
      ]
     },
     "execution_count": 13,
     "metadata": {},
     "output_type": "execute_result"
    }
   ],
   "source": [
    "len(vocab)"
   ]
  },
  {
   "cell_type": "code",
   "execution_count": 14,
   "metadata": {
    "colab": {
     "base_uri": "https://localhost:8080/"
    },
    "executionInfo": {
     "elapsed": 10,
     "status": "ok",
     "timestamp": 1623928791721,
     "user": {
      "displayName": "Niboon Boonprakob",
      "photoUrl": "https://lh3.googleusercontent.com/a-/AOh14GgAUCLlgVyy2cNFoPZnHaenGoKGb_v_5vJby_xl_Q=s64",
      "userId": "06135737577210342247"
     },
     "user_tz": -420
    },
    "id": "8rYdShY4FXeA",
    "outputId": "770462b7-ab22-40e5-e604-4ebe4b693aa0"
   },
   "outputs": [
    {
     "data": {
      "text/plain": [
       "[('film', 8860),\n",
       " ('one', 5521),\n",
       " ('movie', 5440),\n",
       " ('like', 3553),\n",
       " ('even', 2555),\n",
       " ('good', 2320),\n",
       " ('time', 2283),\n",
       " ('story', 2118),\n",
       " ('films', 2102),\n",
       " ('would', 2042),\n",
       " ('much', 2024),\n",
       " ('also', 1965),\n",
       " ('characters', 1947),\n",
       " ('get', 1921),\n",
       " ('character', 1906),\n",
       " ('two', 1825),\n",
       " ('first', 1768),\n",
       " ('see', 1730),\n",
       " ('well', 1694),\n",
       " ('way', 1668)]"
      ]
     },
     "execution_count": 14,
     "metadata": {},
     "output_type": "execute_result"
    }
   ],
   "source": [
    "vocab.most_common(20)"
   ]
  },
  {
   "cell_type": "code",
   "execution_count": 15,
   "metadata": {
    "id": "aATBXiltFXeB"
   },
   "outputs": [],
   "source": [
    "# Save Prepared data \n",
    "def save_text (path , filename):\n",
    "    data = '\\n'.join(path)\n",
    "    file = open(filename,\"w\")\n",
    "    file.write(data)\n",
    "    file.close()"
   ]
  },
  {
   "cell_type": "code",
   "execution_count": 16,
   "metadata": {
    "id": "-CDL1OD3FXeB"
   },
   "outputs": [],
   "source": [
    "# หาอันที่มีโอกาสเกิดน้อยที่สุด \n",
    "min_occurrence = 5\n",
    "tokens = [i for i,j in vocab.items() if j >= min_occurrence]"
   ]
  },
  {
   "cell_type": "code",
   "execution_count": 18,
   "metadata": {
    "id": "rZ-uKlu2FXeB",
    "outputId": "014007e5-1219-4cdf-a74f-66bfd5c6d4fa"
   },
   "outputs": [],
   "source": [
    "# print(tokens , len(tokens))"
   ]
  },
  {
   "cell_type": "code",
   "execution_count": 19,
   "metadata": {
    "id": "rMeCTD31FXeB"
   },
   "outputs": [],
   "source": [
    "save_text(tokens,\"data_vocab.txt\")"
   ]
  },
  {
   "cell_type": "code",
   "execution_count": 20,
   "metadata": {
    "id": "03qvmumzFXeC"
   },
   "outputs": [],
   "source": [
    "# load vocab \n",
    "df_vocab = \"data_vocab.txt\"\n",
    "df_vocab = load_data(df_vocab)\n",
    "df_vocab = df_vocab.split()\n",
    "df_vocab = set(df_vocab)\n",
    "neg_data = all_text(\"review_polarity/txt_sentoken/neg/\" , vocab)\n",
    "pos_data = all_text(\"review_polarity/txt_sentoken/pos/\" , vocab)\n",
    "\n",
    "# save pos_data and neg_data \n",
    "save_text(neg_data , \"data_neg.txt\")\n",
    "save_text(pos_data , \"data_pos.txt\")"
   ]
  },
  {
   "cell_type": "markdown",
   "metadata": {
    "id": "ItTRpFG4FXeC"
   },
   "source": [
    "## 2.3 TF-IDF\n",
    "From a raw text review, you want to create a vector, whose elements indicate the number of each word in each document. The frequency of all words within the documents are the ‘features’ of this machine learning problem.\n",
    "\n",
    "A popular method for transforming a text to a vector is called tf-idf, short for term frequencyinverse document frequency.\n",
    "\n",
    "1. Conduct a research about tf-idf and explain how it works.\n",
    "2. Scikit-learn provides a module for calculating this, this is called TfidfVec- torizer.\n",
    "You can study how this function is used here:\n",
    "\n",
    "`http://scikit-learn.org/stable/modules/generated/sklearn.feature_extraction.text.TfidfVectorizer.html`\n",
    "\n",
    "Write code to transform your text to tf-idf vector."
   ]
  },
  {
   "cell_type": "markdown",
   "metadata": {
    "collapsed": true,
    "id": "mKr9G4WFFXeC"
   },
   "source": [
    "## Conduct a research about tf-idf and explain how it works."
   ]
  },
  {
   "cell_type": "markdown",
   "metadata": {
    "id": "uzlUIM44FXeC"
   },
   "source": [
    "หลังการทำงานของ Tf-idf  คือ ใช้เปรียบเทียบความเหมือนกันของคำสอนคำ โดยวัดจาก tf และ idf\n",
    "การวัด cosine ตรงๆระหว่างคำสองคำไม่ค่อยเหมาะ เนื่องจากข้อมูลจะเบ้หนักมาก แล้วก็แยกแยะกันได้ยาก \n",
    "เช่น คำพวก the , it , they พวกนี้จะมาทำการแยกยากเพราะไม่ค่อยให้ข้อมูลอะไร เราเลยจะใช้ Tf-idf เข้ามาช่วย\n",
    "\n",
    "Tf : Term frequency คือการนับความถี่ของคำ (t) ในเอกสาร (d) จำนวนคำ \n",
    "                        tf = count(t,d)\n",
    "หรือเราสามา take log ฐาน 10 เข้าไปเพื่อปรับสเกลไม่ให้เวอร์เกินไป \n",
    "                        tf = log10(count(t,d)+1)\n",
    "                  (+1 เพราะว่าไม่ให้เกิดเคส log0)\n",
    "idf : Inverse Document Frequency \n",
    " df : document Frequency คือจะให้ weight เยอะๆสำหรับคำที่เจอไม่บ่อยในเอาสารมันมาจากแนวคิดว่าถ้าคำไหนเจอบ่อยๆใน เอกสารจะแปลว่ามันไม่สำคัญ\n",
    " df จะแตกต่างจาก collection frquency ตรงที่ถ้ากรอบ collection ของเราคือ document หลายๆชิ้นเวลานับ document frquency เราจะนับคำนั้นๆไปโผล่ใน\n",
    " document กี่ชิ้น ส่วน collection fequency จะนับว่าคำนั้นไปโผล่ใน collection (document ไหนก็ได้) กี่ครั้ง"
   ]
  },
  {
   "cell_type": "code",
   "execution_count": null,
   "metadata": {
    "id": "AtZuaZ82FXeD",
    "outputId": "e38b302b-4d9a-4ce6-e1ba-1fd9a4f4f07b"
   },
   "outputs": [
    {
     "data": {
      "image/png": "[encoded data removed]",
      "text/plain": [
       "<IPython.core.display.Image object>"
      ]
     },
     "execution_count": 19,
     "metadata": {
      "tags": []
     },
     "output_type": "execute_result"
    }
   ],
   "source": [
    "from IPython import display\n",
    "display.Image(\"pic_tf-idf/0_nFyAU7l38Wo1dHhK.png\")"
   ]
  },
  {
   "cell_type": "markdown",
   "metadata": {
    "id": "UgoCk5ISFXeD"
   },
   "source": [
    "เราจะใช้ Inverse Document Frequency ดทนเพื่อให้ตีความง่านกว่า Df มีสูตร คือ \n",
    "                        N/df\n",
    "โดย N คือจำนวน document ใน collection ส่วน df คือจำนวน document ที่มีคำนั้นๆ \n",
    "นอกจากนี้ก็มีการ take log ฐาน10 เขาไปเช่นกัน เพื่อปรับสเกล\n",
    "                        idf = log10(N/df) "
   ]
  },
  {
   "cell_type": "code",
   "execution_count": null,
   "metadata": {
    "id": "q3hxVIg_FXeD",
    "outputId": "d845cbf0-6f4e-4d6d-df96-e69bab709c5b"
   },
   "outputs": [
    {
     "data": {
      "image/png": "[encoded data removed]",
      "text/plain": [
       "<IPython.core.display.Image object>"
      ]
     },
     "execution_count": 20,
     "metadata": {
      "tags": []
     },
     "output_type": "execute_result"
    }
   ],
   "source": [
    "display.Image(\"pic_tf-idf/0_BM0SUOJBB4niQs0f.png\")"
   ]
  },
  {
   "cell_type": "markdown",
   "metadata": {
    "id": "oHTRXl0AFXeD"
   },
   "source": [
    "ตามรูป N = 37 ทำให้ good กับ sweet ที่มี df = 37 คือ idf ออกมาได้ 0 \n",
    "ยิ่งค่า idf สูงๆแปลว่าคำๆนั้นสำคัญมาก \n",
    "                            สรุป \n",
    "               tf-idf สามารถคำนวณตรงๆ ได้เลยคือ \n",
    "                       w = tf * idf"
   ]
  },
  {
   "cell_type": "code",
   "execution_count": null,
   "metadata": {
    "id": "Jox04HaOFXeE",
    "outputId": "bb46a70d-a151-4f25-ef65-384c2d5bddb7"
   },
   "outputs": [
    {
     "data": {
      "image/png": "[encoded data removed]",
      "text/plain": [
       "<IPython.core.display.Image object>"
      ]
     },
     "execution_count": 21,
     "metadata": {
      "tags": []
     },
     "output_type": "execute_result"
    }
   ],
   "source": [
    "display.Image(\"pic_tf-idf/0_xpFqparOAIPNTZw9.png\")"
   ]
  },
  {
   "cell_type": "markdown",
   "metadata": {
    "id": "M3RtnJEhFXeE"
   },
   "source": [
    "เราจะใช้ tf-idf เป็นค่ามาตรฐาน (baseline) สำหรับพิจรณา weighting ของ cooccurrence matrix"
   ]
  },
  {
   "cell_type": "markdown",
   "metadata": {
    "id": "VwkHxieKFXeE"
   },
   "source": [
    "#### Refer: https://medium.com/@sirasith.petch/word-embedding-tf-idf-%E0%B9%81%E0%B8%A5%E0%B8%B0-word2vec-%E0%B8%84%E0%B8%B7%E0%B8%AD%E0%B8%AD%E0%B8%B0%E0%B9%84%E0%B8%A3-%E0%B9%81%E0%B8%A5%E0%B9%89%E0%B8%A7%E0%B8%A1%E0%B8%B1%E0%B8%99%E0%B8%A1%E0%B8%B5%E0%B8%9B%E0%B8%A3%E0%B8%B0%E0%B9%82%E0%B8%A2%E0%B8%8A%E0%B8%99%E0%B9%8C%E0%B8%A2%E0%B8%B1%E0%B8%87%E0%B9%84%E0%B8%87-9a6c593cf507"
   ]
  },
  {
   "cell_type": "markdown",
   "metadata": {
    "id": "F7k3r4WJFXeE"
   },
   "source": [
    "## Scikit-learn provides a module for calculating this, this is called TfidfVec- torizer. You can study how this function is used here"
   ]
  },
  {
   "cell_type": "code",
   "execution_count": 21,
   "metadata": {
    "id": "EIatPESjFXeF"
   },
   "outputs": [],
   "source": [
    "from sklearn.feature_extraction.text import TfidfVectorizer \n",
    "\n",
    "text_all = []\n",
    "buff = 0 \n",
    "directory = \"review_polarity/txt_sentoken/neg/\"\n",
    "for filename in listdir(directory): \n",
    "    if not filename.endswith(\".txt\"):\n",
    "        continue\n",
    "    path = directory + \"/\" + filename\n",
    "    file = open(path)\n",
    "    text = file.read()\n",
    "    file.close()\n",
    "#     print(text)\n",
    "    text_all.append(text)\n",
    "    \n",
    "directory = \"review_polarity/txt_sentoken/pos/\"\n",
    "for filename in listdir(directory): \n",
    "    if not filename.endswith(\".txt\"):\n",
    "        continue\n",
    "    path = directory + \"/\" + filename\n",
    "    file = open(path)\n",
    "    text = file.read()\n",
    "    file.close()\n",
    "     #print(text)\n",
    "    text_all.append(text)"
   ]
  },
  {
   "cell_type": "code",
   "execution_count": 22,
   "metadata": {
    "id": "nKdwb5sUFXeF",
    "outputId": "5885e1a3-a7dc-4ee9-b5e2-815055c28e18",
    "pycharm": {
     "name": "#%%\n"
    }
   },
   "outputs": [],
   "source": [
    "# print(text_all)"
   ]
  },
  {
   "cell_type": "code",
   "execution_count": 23,
   "metadata": {
    "id": "5tcvUEzlFXeF",
    "pycharm": {
     "name": "#%%\n"
    }
   },
   "outputs": [],
   "source": [
    "vectorizer = TfidfVectorizer()\n",
    "X = vectorizer.fit_transform(text_all)"
   ]
  },
  {
   "cell_type": "code",
   "execution_count": 24,
   "metadata": {
    "id": "PVCpH-aBFXeF",
    "outputId": "04233205-4131-45fb-bae6-03553c1d5760"
   },
   "outputs": [
    {
     "data": {
      "text/plain": [
       "(2000, 39659)"
      ]
     },
     "execution_count": 24,
     "metadata": {},
     "output_type": "execute_result"
    }
   ],
   "source": [
    "X.shape"
   ]
  },
  {
   "cell_type": "code",
   "execution_count": 25,
   "metadata": {
    "id": "MdRWx55gFXeG",
    "outputId": "d77eb1ad-3317-48cc-dc9d-990d0b290aee"
   },
   "outputs": [
    {
     "data": {
      "text/plain": [
       "['00',\n",
       " '000',\n",
       " '0009f',\n",
       " '007',\n",
       " '00s',\n",
       " '03',\n",
       " '04',\n",
       " '05',\n",
       " '05425',\n",
       " '10',\n",
       " '100',\n",
       " '1000',\n",
       " '10000',\n",
       " '100m',\n",
       " '101',\n",
       " '102',\n",
       " '103',\n",
       " '104',\n",
       " '105',\n",
       " '106',\n",
       " '107',\n",
       " '108',\n",
       " '109',\n",
       " '10b',\n",
       " '10s',\n",
       " '10th',\n",
       " '11',\n",
       " '110',\n",
       " '111',\n",
       " '112',\n",
       " '113',\n",
       " '1138',\n",
       " '114',\n",
       " '115',\n",
       " '117',\n",
       " '118',\n",
       " '11th',\n",
       " '12',\n",
       " '121',\n",
       " '122',\n",
       " '123',\n",
       " '125',\n",
       " '126',\n",
       " '127',\n",
       " '1272',\n",
       " '128',\n",
       " '129',\n",
       " '1298',\n",
       " '12th',\n",
       " '13',\n",
       " '130',\n",
       " '1305',\n",
       " '131',\n",
       " '132',\n",
       " '133',\n",
       " '135',\n",
       " '137',\n",
       " '138',\n",
       " '139',\n",
       " '13th',\n",
       " '14',\n",
       " '140',\n",
       " '1400',\n",
       " '143',\n",
       " '144',\n",
       " '14th',\n",
       " '15',\n",
       " '150',\n",
       " '1500s',\n",
       " '150th',\n",
       " '151',\n",
       " '152',\n",
       " '1521',\n",
       " '153',\n",
       " '155',\n",
       " '1554',\n",
       " '157',\n",
       " '1583',\n",
       " '1590',\n",
       " '15th',\n",
       " '16',\n",
       " '160',\n",
       " '1600',\n",
       " '1600s',\n",
       " '161',\n",
       " '165',\n",
       " '167',\n",
       " '1692',\n",
       " '16mm',\n",
       " '16th',\n",
       " '16x9',\n",
       " '17',\n",
       " '170',\n",
       " '1700s',\n",
       " '1709',\n",
       " '172',\n",
       " '175',\n",
       " '1773',\n",
       " '1791',\n",
       " '1792',\n",
       " '1793',\n",
       " '1794',\n",
       " '1799',\n",
       " '17th',\n",
       " '18',\n",
       " '180',\n",
       " '1800',\n",
       " '1800s',\n",
       " '1812',\n",
       " '1830s',\n",
       " '1839',\n",
       " '1847',\n",
       " '1862',\n",
       " '1865',\n",
       " '1869',\n",
       " '1871',\n",
       " '1885',\n",
       " '1888',\n",
       " '189',\n",
       " '1896',\n",
       " '1898',\n",
       " '1899',\n",
       " '18s',\n",
       " '18th',\n",
       " '19',\n",
       " '1900',\n",
       " '1900s',\n",
       " '1903',\n",
       " '1908',\n",
       " '1912',\n",
       " '1913',\n",
       " '1914',\n",
       " '1916',\n",
       " '1919',\n",
       " '1920s',\n",
       " '1922',\n",
       " '1923',\n",
       " '1925',\n",
       " '1926',\n",
       " '1928',\n",
       " '1930',\n",
       " '1930s',\n",
       " '1932',\n",
       " '1933',\n",
       " '1934',\n",
       " '1935',\n",
       " '1937',\n",
       " '1938',\n",
       " '1939',\n",
       " '1940',\n",
       " '1940s',\n",
       " '1941',\n",
       " '1942',\n",
       " '1943',\n",
       " '1944',\n",
       " '1945',\n",
       " '1946',\n",
       " '1947',\n",
       " '1948',\n",
       " '1949',\n",
       " '1950',\n",
       " '1950s',\n",
       " '1951',\n",
       " '1952',\n",
       " '1953',\n",
       " '1954',\n",
       " '1955',\n",
       " '1956',\n",
       " '1957',\n",
       " '1958',\n",
       " '1959',\n",
       " '1960',\n",
       " '1960s',\n",
       " '1961',\n",
       " '1962',\n",
       " '1963',\n",
       " '1964',\n",
       " '1965',\n",
       " '1966',\n",
       " '1967',\n",
       " '1968',\n",
       " '1969',\n",
       " '1970',\n",
       " '1970s',\n",
       " '1971',\n",
       " '1972',\n",
       " '1973',\n",
       " '1974',\n",
       " '1975',\n",
       " '1976',\n",
       " '1977',\n",
       " '1978',\n",
       " '1979',\n",
       " '1980',\n",
       " '1980s',\n",
       " '1981',\n",
       " '1982',\n",
       " '1983',\n",
       " '1984',\n",
       " '1985',\n",
       " '1986',\n",
       " '1987',\n",
       " '1988',\n",
       " '1989',\n",
       " '1990',\n",
       " '1990s',\n",
       " '1991',\n",
       " '1992',\n",
       " '1993',\n",
       " '1994',\n",
       " '1995',\n",
       " '1996',\n",
       " '1997',\n",
       " '1998',\n",
       " '1998s',\n",
       " '1999',\n",
       " '19th',\n",
       " '1hr',\n",
       " '1st',\n",
       " '20',\n",
       " '200',\n",
       " '2000',\n",
       " '2001',\n",
       " '2002',\n",
       " '2007',\n",
       " '2010',\n",
       " '2013',\n",
       " '2015',\n",
       " '2017',\n",
       " '2018',\n",
       " '2020',\n",
       " '2023',\n",
       " '2024',\n",
       " '2029',\n",
       " '2036',\n",
       " '2040',\n",
       " '2050',\n",
       " '2056',\n",
       " '2058',\n",
       " '206',\n",
       " '2065',\n",
       " '209',\n",
       " '2099',\n",
       " '20s',\n",
       " '20somethings',\n",
       " '20th',\n",
       " '20thcentury',\n",
       " '21',\n",
       " '216',\n",
       " '2176',\n",
       " '21a',\n",
       " '21st',\n",
       " '22',\n",
       " '2259',\n",
       " '2293',\n",
       " '23',\n",
       " '230',\n",
       " '234',\n",
       " '23rd',\n",
       " '24',\n",
       " '2400',\n",
       " '2470',\n",
       " '24th',\n",
       " '25',\n",
       " '250',\n",
       " '254',\n",
       " '25th',\n",
       " '26',\n",
       " '2654',\n",
       " '26min',\n",
       " '26th',\n",
       " '27',\n",
       " '28',\n",
       " '280',\n",
       " '289',\n",
       " '28th',\n",
       " '28up',\n",
       " '29',\n",
       " '2_',\n",
       " '2am',\n",
       " '2d',\n",
       " '2hr',\n",
       " '2nd',\n",
       " '2th',\n",
       " '30',\n",
       " '300',\n",
       " '3000',\n",
       " '30ish',\n",
       " '30m',\n",
       " '30s',\n",
       " '30th',\n",
       " '31',\n",
       " '310',\n",
       " '31st',\n",
       " '32',\n",
       " '33',\n",
       " '34',\n",
       " '3411',\n",
       " '3465',\n",
       " '34th',\n",
       " '35',\n",
       " '357',\n",
       " '35mm',\n",
       " '35th',\n",
       " '36',\n",
       " '360',\n",
       " '3654',\n",
       " '36th',\n",
       " '37',\n",
       " '37th',\n",
       " '38th',\n",
       " '39',\n",
       " '3d',\n",
       " '3p0',\n",
       " '3po',\n",
       " '3rd',\n",
       " '40',\n",
       " '400',\n",
       " '40mins',\n",
       " '40s',\n",
       " '41',\n",
       " '42',\n",
       " '426',\n",
       " '43',\n",
       " '44',\n",
       " '449',\n",
       " '45',\n",
       " '460',\n",
       " '47',\n",
       " '48',\n",
       " '48th',\n",
       " '49',\n",
       " '4960',\n",
       " '4am',\n",
       " '4th',\n",
       " '50',\n",
       " '500',\n",
       " '5000',\n",
       " '50000',\n",
       " '500k',\n",
       " '500th',\n",
       " '50s',\n",
       " '50th',\n",
       " '51',\n",
       " '51st',\n",
       " '52',\n",
       " '53',\n",
       " '54',\n",
       " '54th',\n",
       " '55',\n",
       " '555',\n",
       " '56',\n",
       " '5671',\n",
       " '56k',\n",
       " '57',\n",
       " '571',\n",
       " '57th',\n",
       " '58',\n",
       " '59',\n",
       " '5th',\n",
       " '60',\n",
       " '600',\n",
       " '6000',\n",
       " '607',\n",
       " '60s',\n",
       " '61',\n",
       " '62',\n",
       " '63',\n",
       " '64',\n",
       " '640',\n",
       " '65',\n",
       " '65th',\n",
       " '66',\n",
       " '666',\n",
       " '67',\n",
       " '68',\n",
       " '69',\n",
       " '6th',\n",
       " '70',\n",
       " '700',\n",
       " '7000',\n",
       " '701',\n",
       " '70ies',\n",
       " '70m',\n",
       " '70mm',\n",
       " '70s',\n",
       " '710',\n",
       " '712',\n",
       " '73',\n",
       " '747s',\n",
       " '75',\n",
       " '750',\n",
       " '76',\n",
       " '77',\n",
       " '777',\n",
       " '779',\n",
       " '78',\n",
       " '79',\n",
       " '7th',\n",
       " '80',\n",
       " '800',\n",
       " '802',\n",
       " '8034',\n",
       " '80s',\n",
       " '81',\n",
       " '82',\n",
       " '8216',\n",
       " '83',\n",
       " '84',\n",
       " '85',\n",
       " '85but',\n",
       " '86',\n",
       " '87',\n",
       " '88',\n",
       " '89',\n",
       " '8a',\n",
       " '8mm',\n",
       " '8th',\n",
       " '90',\n",
       " '900',\n",
       " '90210',\n",
       " '90s',\n",
       " '91',\n",
       " '911',\n",
       " '92',\n",
       " '92ll',\n",
       " '92re',\n",
       " '92s',\n",
       " '92t',\n",
       " '92ve',\n",
       " '93',\n",
       " '939',\n",
       " '94',\n",
       " '95',\n",
       " '95s',\n",
       " '96',\n",
       " '97',\n",
       " '98',\n",
       " '99',\n",
       " '999',\n",
       " '9mm',\n",
       " '_2001_',\n",
       " '_21_jump_street_',\n",
       " '_48_hrs',\n",
       " '_54_',\n",
       " '___',\n",
       " '____',\n",
       " '_____',\n",
       " '______',\n",
       " '____________________________________________',\n",
       " '__________________________________________________________',\n",
       " '_a',\n",
       " '_a_night_at_the_roxbury_',\n",
       " '_air_force_one_',\n",
       " '_all_',\n",
       " '_am_',\n",
       " '_amadeus_',\n",
       " '_america',\n",
       " '_american_beauty_',\n",
       " '_american_psycho_',\n",
       " '_and_',\n",
       " '_andre_',\n",
       " '_angel',\n",
       " '_animal',\n",
       " '_anything_',\n",
       " '_are_',\n",
       " '_armageddon_',\n",
       " '_arrrgh_',\n",
       " '_babe_',\n",
       " '_bad_',\n",
       " '_basquiat_',\n",
       " '_before_',\n",
       " '_beloved_',\n",
       " '_blade',\n",
       " '_blade_',\n",
       " '_boogie',\n",
       " '_boom_',\n",
       " '_brazil_',\n",
       " '_breakfast_',\n",
       " '_breakfast_of_champions_',\n",
       " '_but',\n",
       " '_can',\n",
       " '_can_',\n",
       " '_casablanca_',\n",
       " '_cliffhanger',\n",
       " '_cliffhanger_',\n",
       " '_clueless_',\n",
       " '_come_',\n",
       " '_dancing_',\n",
       " '_dawson',\n",
       " '_daylight_',\n",
       " '_dead_',\n",
       " '_dead_man_',\n",
       " '_dead_man_on_campus_',\n",
       " '_death',\n",
       " '_dirty_work_',\n",
       " '_disturbing_behavior_',\n",
       " '_do_',\n",
       " '_doctor_dolittle_',\n",
       " '_does_',\n",
       " '_dog',\n",
       " '_don',\n",
       " '_double_team_',\n",
       " '_dragon',\n",
       " '_dragon_',\n",
       " '_dragonheart_',\n",
       " '_election',\n",
       " '_election_',\n",
       " '_entertainment_weekly_',\n",
       " '_escape',\n",
       " '_eve',\n",
       " '_everybody_',\n",
       " '_exactly_',\n",
       " '_experience_',\n",
       " '_fantastic_',\n",
       " '_fear_and_loathing_in_las_vegas_',\n",
       " '_ferris',\n",
       " '_fifty_',\n",
       " '_film',\n",
       " '_fisherman',\n",
       " '_flirting',\n",
       " '_four_',\n",
       " '_full_house_',\n",
       " '_gag',\n",
       " '_gattaca_',\n",
       " '_genius_',\n",
       " '_ghost',\n",
       " '_great_',\n",
       " '_h20_',\n",
       " '_halloween',\n",
       " '_halloween_',\n",
       " '_happen_',\n",
       " '_hard_ware',\n",
       " '_have_',\n",
       " '_heathers_',\n",
       " '_here_',\n",
       " '_highly_',\n",
       " '_his_',\n",
       " '_holy_man_',\n",
       " '_home',\n",
       " '_home_alone_',\n",
       " '_hope',\n",
       " '_huge_',\n",
       " '_hustler_',\n",
       " '_i_know',\n",
       " '_i_know_what_you_did_last_summer_',\n",
       " '_in',\n",
       " '_into_',\n",
       " '_is_',\n",
       " '_it',\n",
       " '_itcom_',\n",
       " '_jerry_maguire_',\n",
       " '_john',\n",
       " '_juliet_',\n",
       " '_jumanji_',\n",
       " '_kingpin_',\n",
       " '_knock_off_',\n",
       " '_la',\n",
       " '_last',\n",
       " '_last_',\n",
       " '_least_',\n",
       " '_leave',\n",
       " '_life',\n",
       " '_little',\n",
       " '_loathe_',\n",
       " '_lone',\n",
       " '_long_',\n",
       " '_looks_',\n",
       " '_lot_',\n",
       " '_mafia_',\n",
       " '_many_',\n",
       " '_matewan_',\n",
       " '_matrix_',\n",
       " '_melvin',\n",
       " '_mind',\n",
       " '_moby',\n",
       " '_monster_movie_',\n",
       " '_more_',\n",
       " '_mortal',\n",
       " '_murder_',\n",
       " '_must_',\n",
       " '_never',\n",
       " '_no',\n",
       " '_not_',\n",
       " '_october',\n",
       " '_offscreen_',\n",
       " '_onegin_',\n",
       " '_original_',\n",
       " '_patlabor',\n",
       " '_patlabor_',\n",
       " '_pecker_',\n",
       " '_people_',\n",
       " '_pick_chucky_up_',\n",
       " '_polish_wedding_',\n",
       " '_pollock_',\n",
       " '_poltergeist_',\n",
       " '_porky',\n",
       " '_practical',\n",
       " '_quite_',\n",
       " '_reach_the_rock_',\n",
       " '_real_',\n",
       " '_reality',\n",
       " '_really_',\n",
       " '_red',\n",
       " '_remains',\n",
       " '_require_',\n",
       " '_roxbury_',\n",
       " '_rushmore_',\n",
       " '_saturday_night_live_',\n",
       " '_saved_by_the_bell_',\n",
       " '_saving',\n",
       " '_scarface_',\n",
       " '_schindler',\n",
       " '_scream',\n",
       " '_scream_',\n",
       " '_scream_2_',\n",
       " '_seven_nights_',\n",
       " '_shaft',\n",
       " '_shaft_',\n",
       " '_shaft_in_africa_',\n",
       " '_shine_',\n",
       " '_should_',\n",
       " '_six_days',\n",
       " '_snl_',\n",
       " '_so',\n",
       " '_soldier_',\n",
       " '_some_',\n",
       " '_somewhere_',\n",
       " '_star',\n",
       " '_still_',\n",
       " '_survives_',\n",
       " '_that_',\n",
       " '_the',\n",
       " '_the_',\n",
       " '_the_broadway_musical_',\n",
       " '_the_fugitive_',\n",
       " '_the_last_days_of_disco_',\n",
       " '_the_lion_king',\n",
       " '_the_quest_',\n",
       " '_their_',\n",
       " '_there_',\n",
       " '_they',\n",
       " '_this_',\n",
       " '_titanic_',\n",
       " '_titus_',\n",
       " '_titus_andronicus_',\n",
       " '_to',\n",
       " '_today_',\n",
       " '_too_',\n",
       " '_twice_',\n",
       " '_two_',\n",
       " '_unbreakable_',\n",
       " '_urban',\n",
       " '_urban_legend_',\n",
       " '_vampires_',\n",
       " '_very_',\n",
       " '_very_small_',\n",
       " '_wag',\n",
       " '_waiting_to_exhale_',\n",
       " '_wartime',\n",
       " '_wayyyyy_',\n",
       " '_what',\n",
       " '_whole_',\n",
       " '_will_',\n",
       " '_william_shakespeare',\n",
       " '_wishmaster_',\n",
       " '_would_',\n",
       " 'aa',\n",
       " 'aaa',\n",
       " 'aaaaaaaaah',\n",
       " 'aaaaaaaahhhh',\n",
       " 'aaaaaah',\n",
       " 'aaaahhhs',\n",
       " 'aahs',\n",
       " 'aaliyah',\n",
       " 'aalyah',\n",
       " 'aamir',\n",
       " 'aardman',\n",
       " 'aaron',\n",
       " 'aatish',\n",
       " 'ab',\n",
       " 'aback',\n",
       " 'abandon',\n",
       " 'abandoned',\n",
       " 'abandoning',\n",
       " 'abandonment',\n",
       " 'abandons',\n",
       " 'abating',\n",
       " 'abba',\n",
       " 'abbe',\n",
       " 'abberation',\n",
       " 'abberline',\n",
       " 'abbots',\n",
       " 'abbott',\n",
       " 'abbotts',\n",
       " 'abbreviated',\n",
       " 'abby',\n",
       " 'abc',\n",
       " 'abdomen',\n",
       " 'abducted',\n",
       " 'abductees',\n",
       " 'abduction',\n",
       " 'abductions',\n",
       " 'abdul',\n",
       " 'abe',\n",
       " 'abel',\n",
       " 'aberdeen',\n",
       " 'aberration',\n",
       " 'abetted',\n",
       " 'abetting',\n",
       " 'abeyance',\n",
       " 'abhorrence',\n",
       " 'abhorrent',\n",
       " 'abider',\n",
       " 'abides',\n",
       " 'abiding',\n",
       " 'abigail',\n",
       " 'abiility',\n",
       " 'abilities',\n",
       " 'ability',\n",
       " 'abject',\n",
       " 'ablaze',\n",
       " 'able',\n",
       " 'ably',\n",
       " 'abnormal',\n",
       " 'abnormally',\n",
       " 'abo',\n",
       " 'aboard',\n",
       " 'abode',\n",
       " 'abolish',\n",
       " 'abolitionist',\n",
       " 'abolitionists',\n",
       " 'abominable',\n",
       " 'abomination',\n",
       " 'aborbed',\n",
       " 'aborginal',\n",
       " 'aboriginal',\n",
       " 'aboriginals',\n",
       " 'aborigine',\n",
       " 'abort',\n",
       " 'aborted',\n",
       " 'abortion',\n",
       " 'abortionist',\n",
       " 'abortions',\n",
       " 'abortive',\n",
       " 'aboslutely',\n",
       " 'abound',\n",
       " 'abounded',\n",
       " 'abounding',\n",
       " 'abounds',\n",
       " 'about',\n",
       " 'abouts',\n",
       " 'above',\n",
       " 'abraded',\n",
       " 'abraham',\n",
       " 'abrahams',\n",
       " 'abrams',\n",
       " 'abrasive',\n",
       " 'abreast',\n",
       " 'abril',\n",
       " 'abroad',\n",
       " 'abrupt',\n",
       " 'abruptly',\n",
       " 'abs',\n",
       " 'absconded',\n",
       " 'absence',\n",
       " 'absences',\n",
       " 'absense',\n",
       " 'absent',\n",
       " 'absentee',\n",
       " 'absinthe',\n",
       " 'absoloute',\n",
       " 'absoltuely',\n",
       " 'absolut',\n",
       " 'absolute',\n",
       " 'absolutely',\n",
       " 'absolutes',\n",
       " 'absolution',\n",
       " 'absolutist',\n",
       " 'absolved',\n",
       " 'absorb',\n",
       " 'absorbant',\n",
       " 'absorbed',\n",
       " 'absorbing',\n",
       " 'absorbs',\n",
       " 'absorption',\n",
       " 'abstinence',\n",
       " 'abstract',\n",
       " 'abstraction',\n",
       " 'absurd',\n",
       " 'absurdism',\n",
       " 'absurdist',\n",
       " 'absurdities',\n",
       " 'absurdity',\n",
       " 'absurdly',\n",
       " 'abu',\n",
       " 'abundance',\n",
       " 'abundant',\n",
       " 'abundantly',\n",
       " 'abundence',\n",
       " 'abuse',\n",
       " 'abused',\n",
       " 'abuser',\n",
       " 'abusers',\n",
       " 'abuses',\n",
       " 'abusing',\n",
       " 'abusive',\n",
       " 'abuzz',\n",
       " 'abysmal',\n",
       " 'abysmally',\n",
       " 'abyss',\n",
       " 'abyssinian',\n",
       " 'ac',\n",
       " 'ac3',\n",
       " 'academe',\n",
       " 'academia',\n",
       " 'academic',\n",
       " 'academics',\n",
       " 'academy',\n",
       " 'accelerate',\n",
       " 'accelerated',\n",
       " 'accelerates',\n",
       " 'accelerating',\n",
       " 'acceleration',\n",
       " 'accelerator',\n",
       " 'accent',\n",
       " 'accented',\n",
       " 'accents',\n",
       " 'accentuate',\n",
       " 'accentuated',\n",
       " 'accentuates',\n",
       " 'accentuating',\n",
       " 'accept',\n",
       " 'acceptable',\n",
       " 'acceptance',\n",
       " 'accepted',\n",
       " 'accepting',\n",
       " 'acception',\n",
       " 'accepts',\n",
       " 'access',\n",
       " 'accessibility',\n",
       " 'accessible',\n",
       " 'accessorize',\n",
       " 'accessory',\n",
       " 'accident',\n",
       " 'accidental',\n",
       " 'accidentally',\n",
       " 'accidentlly',\n",
       " 'accidently',\n",
       " 'accidents',\n",
       " 'acclaim',\n",
       " 'acclaimed',\n",
       " 'acclimatize',\n",
       " 'accolade',\n",
       " 'accolades',\n",
       " 'accommodate',\n",
       " 'accommodates',\n",
       " 'accommodating',\n",
       " 'accommodations',\n",
       " 'accomodates',\n",
       " 'accompanied',\n",
       " 'accompanies',\n",
       " 'accompaniment',\n",
       " 'accompany',\n",
       " 'accompanying',\n",
       " 'accomplice',\n",
       " 'accomplices',\n",
       " 'accomplish',\n",
       " 'accomplished',\n",
       " 'accomplishes',\n",
       " 'accomplishing',\n",
       " 'accomplishment',\n",
       " 'accomplishments',\n",
       " 'accord',\n",
       " 'accordance',\n",
       " 'according',\n",
       " 'accordingly',\n",
       " 'accordion',\n",
       " 'accost',\n",
       " 'accosted',\n",
       " 'accosts',\n",
       " 'account',\n",
       " 'accountability',\n",
       " 'accountable',\n",
       " 'accountant',\n",
       " 'accountants',\n",
       " 'accounted',\n",
       " 'accounts',\n",
       " 'accumulate',\n",
       " 'accumulated',\n",
       " 'accumulation',\n",
       " 'accuracy',\n",
       " 'accurate',\n",
       " 'accurately',\n",
       " 'accursed',\n",
       " 'accusation',\n",
       " 'accusations',\n",
       " 'accuse',\n",
       " 'accused',\n",
       " 'accuser',\n",
       " 'accuses',\n",
       " 'accusing',\n",
       " 'accustomed',\n",
       " 'ace',\n",
       " 'acerbic',\n",
       " 'acerbity',\n",
       " 'aces',\n",
       " 'ache',\n",
       " 'acheivement',\n",
       " 'acheives',\n",
       " 'aches',\n",
       " 'achievable',\n",
       " 'achieve',\n",
       " 'achieved',\n",
       " 'achieveing',\n",
       " 'achievement',\n",
       " 'achievements',\n",
       " 'achiever',\n",
       " 'achieves',\n",
       " 'achieving',\n",
       " 'achilles',\n",
       " 'achin',\n",
       " 'achingly',\n",
       " 'achoo',\n",
       " 'acid',\n",
       " 'acidic',\n",
       " 'aciton',\n",
       " 'ack',\n",
       " 'acking',\n",
       " 'ackland',\n",
       " 'acknowledge',\n",
       " 'acknowledgeable',\n",
       " 'acknowledged',\n",
       " 'acknowledgement',\n",
       " 'acknowledges',\n",
       " 'acknowledging',\n",
       " 'acknowledgment',\n",
       " 'acme',\n",
       " 'acne',\n",
       " 'acore',\n",
       " 'acquaintance',\n",
       " 'acquaintances',\n",
       " 'acquainted',\n",
       " 'acquaints',\n",
       " 'acquiescence',\n",
       " 'acquire',\n",
       " 'acquired',\n",
       " 'acquires',\n",
       " 'acquisition',\n",
       " 'acquit',\n",
       " 'acquits',\n",
       " 'acquittal',\n",
       " 'acquitted',\n",
       " 'acre',\n",
       " 'acres',\n",
       " 'acrimonious',\n",
       " 'acrimony',\n",
       " 'acrobat',\n",
       " 'acrobatic',\n",
       " 'acrobatics',\n",
       " 'acrobats',\n",
       " 'acronym',\n",
       " 'across',\n",
       " 'acrylic',\n",
       " 'act',\n",
       " 'acted',\n",
       " 'acting',\n",
       " 'action',\n",
       " 'actioner',\n",
       " 'actioners',\n",
       " 'actionfest',\n",
       " 'actionless',\n",
       " 'actions',\n",
       " 'activated',\n",
       " 'active',\n",
       " 'actively',\n",
       " 'activist',\n",
       " 'activists',\n",
       " 'activites',\n",
       " 'activities',\n",
       " 'activity',\n",
       " 'actor',\n",
       " 'actors',\n",
       " 'actosta',\n",
       " 'actress',\n",
       " 'actresses',\n",
       " 'acts',\n",
       " 'actual',\n",
       " 'actualisation',\n",
       " 'actuality',\n",
       " 'actualization',\n",
       " 'actualizing',\n",
       " 'actually',\n",
       " 'actualy',\n",
       " 'acuity',\n",
       " 'acumen',\n",
       " 'acupuncture',\n",
       " 'acute',\n",
       " 'acutely',\n",
       " 'ad',\n",
       " ...]"
      ]
     },
     "execution_count": 25,
     "metadata": {},
     "output_type": "execute_result"
    }
   ],
   "source": [
    "# Feature name \n",
    "# vectorizer.get_feature_names()"
   ]
  },
  {
   "cell_type": "markdown",
   "metadata": {
    "id": "Lr3Ipg8iFXeG"
   },
   "source": [
    "## 2.4 Classification\n",
    "\n",
    "Use 4 different models to classify each movie into positive or negative category.\n",
    "\n",
    "1. K-Nearestneighbormodel,using module `sklearn.neighbors.KNeighborsClassifier`\n",
    "2. RandomForest, using module `sklearn.ensemble.RandomForestClassifier`\n",
    "3. SVM, using module `sklearn.svm.SVC`\n",
    "4. Neural network, using `sklearn.neural_network.MLPClassifier`\n",
    "\n",
    "You may pick other models you would like to try. Just present results for at least 4 models.\n",
    "Please provide your code for model fitting and cross validation. Calculate your classification accuracy, precision, and recall."
   ]
  },
  {
   "cell_type": "markdown",
   "metadata": {},
   "source": [
    "# ทำการแบ่งข้อมูลใหม่"
   ]
  },
  {
   "cell_type": "code",
   "execution_count": 56,
   "metadata": {
    "id": "D3idF9ryFXeG"
   },
   "outputs": [],
   "source": [
    "Data_dir = \"review_polarity/txt_sentoken/\""
   ]
  },
  {
   "cell_type": "code",
   "execution_count": 57,
   "metadata": {
    "id": "ez7ygGueFXeG"
   },
   "outputs": [],
   "source": [
    "import numpy as np \n",
    "import matplotlib.pyplot as plt \n",
    "from sklearn.datasets import load_files"
   ]
  },
  {
   "cell_type": "code",
   "execution_count": 58,
   "metadata": {
    "id": "zJkz7sLhFXeG"
   },
   "outputs": [],
   "source": [
    "data = load_files(Data_dir , encoding = \"utf-8\" , decode_error=\"replace\")"
   ]
  },
  {
   "cell_type": "code",
   "execution_count": 59,
   "metadata": {
    "id": "-PXUUpQXFXeH",
    "outputId": "361bbb36-2dba-4fdc-8c31-bb3392749166"
   },
   "outputs": [],
   "source": [
    "# data"
   ]
  },
  {
   "cell_type": "code",
   "execution_count": 60,
   "metadata": {
    "id": "zA0q-JFyFXeK"
   },
   "outputs": [],
   "source": [
    "# Calculate count of each category\n",
    "labels , counts = np.unique(data.target , return_counts = True)"
   ]
  },
  {
   "cell_type": "code",
   "execution_count": 61,
   "metadata": {
    "id": "Ov7nT5YAFXeK"
   },
   "outputs": [],
   "source": [
    "labels_str = np.array(data.target_names)[labels]\n",
    "labels_str = dict(zip(labels_str , counts))"
   ]
  },
  {
   "cell_type": "code",
   "execution_count": 62,
   "metadata": {
    "id": "ZbP1JvoWFXeL",
    "outputId": "49de44c6-48f5-476e-fcd5-3c84b92a7dd9"
   },
   "outputs": [
    {
     "data": {
      "text/plain": [
       "{'neg': 1000, 'pos': 1000}"
      ]
     },
     "execution_count": 62,
     "metadata": {},
     "output_type": "execute_result"
    }
   ],
   "source": [
    "labels_str"
   ]
  },
  {
   "cell_type": "code",
   "execution_count": 63,
   "metadata": {
    "id": "COxvLqAwFXeL",
    "outputId": "1de393cc-6527-46b0-f14b-a7bfe864bb23"
   },
   "outputs": [
    {
     "data": {
      "text/plain": [
       "\"arnold schwarzenegger has been an icon for action enthusiasts , since the late 80's , but lately his films have been very sloppy and the one-liners are getting worse . \\nit's hard seeing arnold as mr . freeze in batman and robin , especially when he says tons of ice jokes , but hey he got 15 million , what's it matter to him ? \\nonce again arnold has signed to do another expensive blockbuster , that can't compare with the likes of the terminator series , true lies and even eraser . \\nin this so called dark thriller , the devil ( gabriel byrne ) has come upon earth , to impregnate a woman ( robin tunney ) which happens every 1000 years , and basically destroy the world , but apparently god has chosen one man , and that one man is jericho cane ( arnold himself ) . \\nwith the help of a trusty sidekick ( kevin pollack ) , they will stop at nothing to let the devil take over the world ! \\nparts of this are actually so absurd , that they would fit right in with dogma . \\nyes , the film is that weak , but it's better than the other blockbuster right now ( sleepy hollow ) , but it makes the world is not enough look like a 4 star film . \\nanyway , this definitely doesn't seem like an arnold movie . \\nit just wasn't the type of film you can see him doing . \\nsure he gave us a few chuckles with his well known one-liners , but he seemed confused as to where his character and the film was going . \\nit's understandable , especially when the ending had to be changed according to some sources . \\naside form that , he still walked through it , much like he has in the past few films . \\ni'm sorry to say this arnold but maybe these are the end of your action days . \\nspeaking of action , where was it in this film ? \\nthere was hardly any explosions or fights . \\nthe devil made a few places explode , but arnold wasn't kicking some devil butt . \\nthe ending was changed to make it more spiritual , which undoubtedly ruined the film . \\ni was at least hoping for a cool ending if nothing else occurred , but once again i was let down . \\ni also don't know why the film took so long and cost so much . \\nthere was really no super affects at all , unless you consider an invisible devil , who was in it for 5 minutes tops , worth the overpriced budget . \\nthe budget should have gone into a better script , where at least audiences could be somewhat entertained instead of facing boredom . \\nit's pitiful to see how scripts like these get bought and made into a movie . \\ndo they even read these things anymore ? \\nit sure doesn't seem like it . \\nthankfully gabriel's performance gave some light to this poor film . \\nwhen he walks down the street searching for robin tunney , you can't help but feel that he looked like a devil . \\nthe guy is creepy looking anyway ! \\nwhen it's all over , you're just glad it's the end of the movie . \\ndon't bother to see this , if you're expecting a solid action flick , because it's neither solid nor does it have action . \\nit's just another movie that we are suckered in to seeing , due to a strategic marketing campaign . \\nsave your money and see the world is not enough for an entertaining experience . \\n\""
      ]
     },
     "execution_count": 63,
     "metadata": {},
     "output_type": "execute_result"
    }
   ],
   "source": [
    "data.data[0]"
   ]
  },
  {
   "cell_type": "code",
   "execution_count": 64,
   "metadata": {
    "id": "lM86Cqi5FXeg",
    "outputId": "0a98f677-82b3-42a9-8331-bd38173c32c7"
   },
   "outputs": [
    {
     "data": {
      "text/plain": [
       "0"
      ]
     },
     "execution_count": 64,
     "metadata": {},
     "output_type": "execute_result"
    }
   ],
   "source": [
    "data.target[0]"
   ]
  },
  {
   "cell_type": "code",
   "execution_count": 65,
   "metadata": {
    "id": "d5QTLezMFXeg",
    "outputId": "3b049d15-12a7-46c9-b9de-742829f7fcb7"
   },
   "outputs": [
    {
     "name": "stdout",
     "output_type": "stream",
     "text": [
      "(2000, 39354)\n"
     ]
    }
   ],
   "source": [
    "from sklearn.feature_extraction.text import TfidfVectorizer ,TfidfTransformer\n",
    "vectorizer = TfidfVectorizer(stop_words=\"english\"  , decode_error= \"ignore\").fit(data.data)\n",
    "tf_idf = TfidfTransformer()\n",
    "vector = tf_idf.fit_transform(vectorizer.fit_transform(data.data)) # x\n",
    "print(vector.shape)"
   ]
  },
  {
   "cell_type": "code",
   "execution_count": 66,
   "metadata": {
    "id": "koITAM3GFXeg"
   },
   "outputs": [],
   "source": [
    "# Data prepararion \n",
    "from sklearn.model_selection import train_test_split\n",
    "X_train , x_test , y_train , y_test = train_test_split(vector , data.target , test_size = 0.2,random_state=42 )"
   ]
  },
  {
   "cell_type": "code",
   "execution_count": 67,
   "metadata": {
    "id": "9eOtc2n4FXeh",
    "outputId": "73298396-062d-4f10-a7aa-7f23c6543f1a",
    "scrolled": true
   },
   "outputs": [
    {
     "data": {
      "text/plain": [
       "(1600, 39354)"
      ]
     },
     "execution_count": 67,
     "metadata": {},
     "output_type": "execute_result"
    }
   ],
   "source": [
    "X_train.shape"
   ]
  },
  {
   "cell_type": "code",
   "execution_count": 68,
   "metadata": {
    "id": "F0Gy831kFXeh",
    "outputId": "f9c02b37-6a12-4e66-d0d7-8e5710a95f73"
   },
   "outputs": [
    {
     "data": {
      "text/plain": [
       "(1600,)"
      ]
     },
     "execution_count": 68,
     "metadata": {},
     "output_type": "execute_result"
    }
   ],
   "source": [
    "y_train.shape"
   ]
  },
  {
   "cell_type": "code",
   "execution_count": 69,
   "metadata": {
    "id": "KqV-iiqzFXeh",
    "outputId": "6e60badf-a1c1-4458-b175-91e7f801086c"
   },
   "outputs": [
    {
     "data": {
      "text/plain": [
       "(400, 39354)"
      ]
     },
     "execution_count": 69,
     "metadata": {},
     "output_type": "execute_result"
    }
   ],
   "source": [
    "x_test.shape"
   ]
  },
  {
   "cell_type": "markdown",
   "metadata": {
    "id": "552cAE0XFXei"
   },
   "source": [
    "# Build model \n",
    "1.K-Nearestneighbor\n",
    "\n",
    "2.RandomForest\n",
    "\n",
    "3.SVM\n",
    "\n",
    "4.Neural network\n",
    "\n",
    "Just present results for at least 4 models. Please provide your code for model fitting and cross validation.\n",
    "\n",
    "Calculate your classification accuracy, precision, and recall."
   ]
  },
  {
   "cell_type": "markdown",
   "metadata": {
    "id": "tGAk42QqFXei"
   },
   "source": [
    "# K-Nearestneighbor"
   ]
  },
  {
   "cell_type": "code",
   "execution_count": 41,
   "metadata": {
    "id": "TZ4bGUmjFXei",
    "outputId": "74ad9850-a61d-4103-ad54-ec8b5ff1a5df"
   },
   "outputs": [
    {
     "name": "stdout",
     "output_type": "stream",
     "text": [
      "model (KNN) accuracy  : 0.66\n",
      "model (KNN) precision : 0.67\n",
      "model (KNN) recall    : 0.68\n"
     ]
    }
   ],
   "source": [
    "from sklearn.model_selection import cross_val_predict , cross_val_score\n",
    "from sklearn.metrics import  accuracy_score , precision_score , recall_score \n",
    "from sklearn.neighbors import KNeighborsClassifier\n",
    "np.random.seed(42)\n",
    "\n",
    "neigh = KNeighborsClassifier(n_neighbors=5)\n",
    "model = neigh.fit(X_train,y_train)\n",
    "\n",
    "y_pred = model.predict(x_test)\n",
    "\n",
    "# cross validation \n",
    "print(f\"model (KNN) accuracy  : {accuracy_score(y_test,y_pred):.2f}\")\n",
    "print(f\"model (KNN) precision : {precision_score(y_test, y_pred):.2f}\")\n",
    "print(f\"model (KNN) recall    : {recall_score(y_test, y_pred):.2f}\")"
   ]
  },
  {
   "cell_type": "markdown",
   "metadata": {
    "id": "ohGHrZDHFXei"
   },
   "source": [
    "# RandomForest"
   ]
  },
  {
   "cell_type": "code",
   "execution_count": 42,
   "metadata": {
    "id": "0WQ1mQ__FXej",
    "outputId": "7815b717-4b8b-43f6-b888-24f3ae9b759d"
   },
   "outputs": [
    {
     "name": "stdout",
     "output_type": "stream",
     "text": [
      "model (RandomForest) accuracy  : 0.80\n",
      "model (RandomForest) precision : 0.85\n",
      "model (RandomForest) recall    : 0.76\n"
     ]
    }
   ],
   "source": [
    "from sklearn.ensemble import RandomForestClassifier\n",
    "\n",
    "np.random.seed(42)\n",
    "\n",
    "clf = RandomForestClassifier(n_estimators=100, criterion=\"gini\")\n",
    "model = clf.fit(X_train ,y_train)\n",
    "\n",
    "y_pred = model.predict(x_test)\n",
    "print(f\"model (RandomForest) accuracy  : {accuracy_score(y_test,y_pred):.2f}\")\n",
    "print(f\"model (RandomForest) precision : {precision_score(y_test, y_pred):.2f}\")\n",
    "print(f\"model (RandomForest) recall    : {recall_score(y_test, y_pred):.2f}\")"
   ]
  },
  {
   "cell_type": "markdown",
   "metadata": {
    "id": "oECitupQFXej"
   },
   "source": [
    "# SVM"
   ]
  },
  {
   "cell_type": "code",
   "execution_count": 43,
   "metadata": {
    "id": "IDfVET4OFXej",
    "outputId": "49cb579b-3ebc-40a9-d13f-2aca202e98e3"
   },
   "outputs": [
    {
     "name": "stdout",
     "output_type": "stream",
     "text": [
      "model (SVM) accuracy  : 0.80\n",
      "model (SVM) precision : 0.82\n",
      "model (SVM) recall    : 0.79\n"
     ]
    }
   ],
   "source": [
    "from sklearn.svm import SVC\n",
    "np.random.seed(42)\n",
    "svm = SVC(C=1 , kernel=\"sigmoid\" , degree = 3)\n",
    "model = svm.fit(X_train , y_train)\n",
    "y_pred = model.predict(x_test)\n",
    "\n",
    "print(f\"model (SVM) accuracy  : {accuracy_score(y_test,y_pred):.2f}\")\n",
    "print(f\"model (SVM) precision : {precision_score(y_test , y_pred):.2f}\")\n",
    "print(f\"model (SVM) recall    : {recall_score(y_test, y_pred):.2f}\")"
   ]
  },
  {
   "cell_type": "markdown",
   "metadata": {
    "id": "PVkLMmMkFXej"
   },
   "source": [
    "# Neural network"
   ]
  },
  {
   "cell_type": "code",
   "execution_count": null,
   "metadata": {
    "id": "-N8o8VO7FXek",
    "outputId": "0cfea4bb-f26f-45ec-be9a-0d0648a03843"
   },
   "outputs": [
    {
     "name": "stdout",
     "output_type": "stream",
     "text": [
      "model (Neural network) accuracy  : 0.81\n",
      "model (Neural network) precision : 0.82\n",
      "model (Neural network) recall    : 0.80\n"
     ]
    }
   ],
   "source": [
    "from sklearn.neural_network import MLPClassifier\n",
    "np.random.seed(42)\n",
    "Nn = MLPClassifier(hidden_layer_sizes=100 , activation='relu' \n",
    "                   ,alpha= 0.0001 , learning_rate='constant')\n",
    "# y_pred_Nn = cross_val_predict(Nn , vector , y , cv = 5)\n",
    "model = Nn.fit(X_train , y_train)\n",
    "y_pred = model.predict(x_test)\n",
    "print(f\"model (Neural network) accuracy  : {accuracy_score(y_test,y_pred):.2f}\")\n",
    "print(f\"model (Neural network) precision : {precision_score(y_test , y_pred):.2f}\")\n",
    "print(f\"model (Neural network) recall    : {recall_score(y_test ,y_pred):.2f}\")"
   ]
  },
  {
   "cell_type": "code",
   "execution_count": null,
   "metadata": {
    "id": "QCu0X8zjFXek",
    "outputId": "a7a77745-6320-4e99-ddc2-2fcf5557d769"
   },
   "outputs": [
    {
     "name": "stdout",
     "output_type": "stream",
     "text": [
      "Name model : KNeighbors\n",
      "Classification report\n",
      "              precision    recall  f1-score   support\n",
      "\n",
      "         Neg       0.66      0.60      0.63      1000\n",
      "         Pos       0.64      0.69      0.67      1000\n",
      "\n",
      "    accuracy                           0.65      2000\n",
      "   macro avg       0.65      0.65      0.65      2000\n",
      "weighted avg       0.65      0.65      0.65      2000\n",
      "\n",
      "Name model : RandomForest\n",
      "Classification report\n",
      "              precision    recall  f1-score   support\n",
      "\n",
      "         Neg       0.76      0.84      0.80      1000\n",
      "         Pos       0.82      0.74      0.78      1000\n",
      "\n",
      "    accuracy                           0.79      2000\n",
      "   macro avg       0.79      0.79      0.79      2000\n",
      "weighted avg       0.79      0.79      0.79      2000\n",
      "\n",
      "Name model : SCV\n",
      "Classification report\n",
      "              precision    recall  f1-score   support\n",
      "\n",
      "         Neg       0.81      0.80      0.81      1000\n",
      "         Pos       0.80      0.81      0.81      1000\n",
      "\n",
      "    accuracy                           0.81      2000\n",
      "   macro avg       0.81      0.81      0.81      2000\n",
      "weighted avg       0.81      0.81      0.81      2000\n",
      "\n",
      "Name model : Neural Network\n",
      "Classification report\n",
      "              precision    recall  f1-score   support\n",
      "\n",
      "         Neg       0.82      0.80      0.81      1000\n",
      "         Pos       0.81      0.82      0.81      1000\n",
      "\n",
      "    accuracy                           0.81      2000\n",
      "   macro avg       0.81      0.81      0.81      2000\n",
      "weighted avg       0.81      0.81      0.81      2000\n",
      "\n"
     ]
    }
   ],
   "source": [
    "from sklearn.neighbors import KNeighborsClassifier\n",
    "from sklearn.svm import SVC\n",
    "from sklearn.metrics import classification_report\n",
    "y = data.target\n",
    "KNN = KNeighborsClassifier(n_neighbors=5)\n",
    "RFC = RandomForestClassifier(n_estimators=100, criterion=\"gini\")\n",
    "SVM = SVC(C=1 , kernel=\"sigmoid\" , degree = 3)\n",
    "MLP = MLPClassifier(hidden_layer_sizes=100 , activation='relu' \n",
    "                   ,alpha= 0.0001 , learning_rate='constant')\n",
    "names_model = [\"KNeighbors\" , \"RandomForest\" , \"SCV\" , \"Neural Network\"]\n",
    "list_model = [KNN,\n",
    "              RFC,\n",
    "              SVM,\n",
    "              MLP]\n",
    "for i , model in enumerate(list_model):\n",
    "    y_pred = cross_val_predict(model , vector , y , cv =5)\n",
    "    print(f\"Name model : {names_model[i]}\")\n",
    "    print(\"Classification report\")\n",
    "    print(classification_report (y , y_pred , target_names = ['Neg' , 'Pos']))"
   ]
  },
  {
   "cell_type": "markdown",
   "metadata": {
    "id": "cpXjmDYVFXek"
   },
   "source": [
    "## 2.5 Model Tuning\n",
    "\n",
    "Can you try to beat the simple model you created above? Here are some things you may try:\n",
    "\n",
    "* When creating TfidfVectorizer object, you may tweak sublinear_tf parameter which use the tf with logarithmic scale instead of the usual tf.\n",
    "* You may also exclude words that are too frequent or too rare, by adjusting max_df and min_df.\n",
    "* Adjusting parameters available in the model, like neural network structure or number of trees in the forest.\n",
    "\n",
    "Design at least 3 experiments using these techniques. Show your experimental results.\n"
   ]
  },
  {
   "cell_type": "code",
   "execution_count": 70,
   "metadata": {
    "id": "uV5lhiTrFXel",
    "outputId": "e8b2dc01-d5c4-44a7-f0dd-7a3bc73e51b6"
   },
   "outputs": [
    {
     "name": "stdout",
     "output_type": "stream",
     "text": [
      "(2000, 15570)\n"
     ]
    }
   ],
   "source": [
    "from sklearn.feature_extraction.text import TfidfVectorizer ,TfidfTransformer\n",
    "\n",
    "vectorizer = TfidfVectorizer(sublinear_tf=True,stop_words=\"english\" ,max_df = 1 , min_df = 1).fit(data.data)\n",
    "tf_idf = TfidfTransformer()\n",
    "vector = tf_idf.fit_transform(vectorizer.fit_transform(data.data)) # x\n",
    "print(vector.shape)"
   ]
  },
  {
   "cell_type": "code",
   "execution_count": 71,
   "metadata": {
    "id": "zVs-pEzmFXel"
   },
   "outputs": [],
   "source": [
    "X_var, x_buff , y_var , y_buff = train_test_split(x_test , y_test , test_size = 0.3 )"
   ]
  },
  {
   "cell_type": "code",
   "execution_count": 72,
   "metadata": {
    "id": "UobKZTLaFXel",
    "outputId": "bac9d34e-eaf3-434c-e85b-945bc8ce7e9f"
   },
   "outputs": [
    {
     "data": {
      "text/plain": [
       "Text(0, 0.5, 'loss')"
      ]
     },
     "execution_count": 72,
     "metadata": {},
     "output_type": "execute_result"
    },
    {
     "data": {
      "image/png": "[encoded data removed]",
      "text/plain": [
       "<Figure size 432x288 with 1 Axes>"
      ]
     },
     "metadata": {
      "needs_background": "light"
     },
     "output_type": "display_data"
    }
   ],
   "source": [
    "# Tune KNN \n",
    "log_data = {'n_neighbors' : [],\n",
    "            'loss' : []}\n",
    "for i in range (1,201):\n",
    "    KNN = KNeighborsClassifier(n_neighbors=i)\n",
    "    model = KNN.fit(X_train , y_train)\n",
    "    y_pred = model.predict(X_var)\n",
    "    accu = accuracy_score(y_var , y_pred)\n",
    "    log_data['n_neighbors'].append(i)\n",
    "    log_data['loss'].append(accu)\n",
    "plt.plot(log_data['n_neighbors'] ,log_data['loss'])\n",
    "plt.xlabel('n_neighbors')\n",
    "plt.ylabel('loss')"
   ]
  },
  {
   "cell_type": "code",
   "execution_count": 76,
   "metadata": {
    "id": "R159lNXtFXel",
    "outputId": "d2b54bd5-20b5-45f6-c804-a7db8f113edf"
   },
   "outputs": [
    {
     "name": "stdout",
     "output_type": "stream",
     "text": [
      "Confusion matrix :        \n",
      " [[153  37]\n",
      " [ 54 156]]\n",
      "Classification Report :        \n",
      "               precision    recall  f1-score   support\n",
      "\n",
      "         Neg       0.74      0.81      0.77       190\n",
      "         Pos       0.81      0.74      0.77       210\n",
      "\n",
      "    accuracy                           0.77       400\n",
      "   macro avg       0.77      0.77      0.77       400\n",
      "weighted avg       0.78      0.77      0.77       400\n",
      "\n"
     ]
    }
   ],
   "source": [
    "from sklearn.metrics import confusion_matrix,classification_report\n",
    "N = KNeighborsClassifier(n_neighbors= 130)\n",
    "model = KNN.fit(X_train , y_train)\n",
    "y_pred = model.predict(x_test)\n",
    "print(f\"Confusion matrix : \\\n",
    "       \\n {confusion_matrix(y_test , y_pred)}\")\n",
    "print(f\"Classification Report : \\\n",
    "       \\n {classification_report (y_test , y_pred , target_names = ['Neg' , 'Pos']) }\")"
   ]
  },
  {
   "cell_type": "code",
   "execution_count": 51,
   "metadata": {
    "id": "0Lypb6TaFXem",
    "outputId": "aff08411-d46c-4b3a-d467-99849ed6dcd0"
   },
   "outputs": [
    {
     "data": {
      "text/plain": [
       "Text(0, 0.5, 'loss')"
      ]
     },
     "execution_count": 51,
     "metadata": {},
     "output_type": "execute_result"
    },
    {
     "data": {
      "image/png": "[encoded data removed]",
      "text/plain": [
       "<Figure size 432x288 with 1 Axes>"
      ]
     },
     "metadata": {
      "needs_background": "light"
     },
     "output_type": "display_data"
    }
   ],
   "source": [
    "# Tune Random Forest \n",
    "log_data = {'n_estimator' : [],\n",
    "            'loss' : []}\n",
    "\n",
    "for i in range(1,101):\n",
    "    model = RandomForestClassifier(n_estimators=i).fit(X_train , y_train)\n",
    "    y_pred = model.predict(X_var)\n",
    "    accu = accuracy_score(y_var , y_pred)\n",
    "    log_data['n_estimator'].append(i)\n",
    "    log_data['loss'].append(accu)\n",
    "plt.plot(log_data['n_estimator'] ,log_data['loss'])\n",
    "plt.xlabel('n_estimator')\n",
    "plt.ylabel('loss')"
   ]
  },
  {
   "cell_type": "code",
   "execution_count": 52,
   "metadata": {
    "id": "r-PJEs3KFXem",
    "outputId": "9feed7ea-8576-4daf-ae20-9eea21fcc04f",
    "scrolled": true
   },
   "outputs": [
    {
     "name": "stdout",
     "output_type": "stream",
     "text": [
      "Confusion matrix :       \n",
      "[[154  36]\n",
      " [ 57 153]]\n",
      "Classification Report :       \n",
      "              precision    recall  f1-score   support\n",
      "\n",
      "         Neg       0.73      0.81      0.77       190\n",
      "         Pos       0.81      0.73      0.77       210\n",
      "\n",
      "    accuracy                           0.77       400\n",
      "   macro avg       0.77      0.77      0.77       400\n",
      "weighted avg       0.77      0.77      0.77       400\n",
      "\n"
     ]
    }
   ],
   "source": [
    "RFC = RandomForestClassifier(n_estimators=83, criterion=\"gini\")\n",
    "model = RFC.fit(X_train , y_train)\n",
    "y_pred = model.predict(x_test)\n",
    "print(f\"Confusion matrix : \\\n",
    "      \\n{confusion_matrix(y_test , y_pred)}\")\n",
    "print(f\"Classification Report : \\\n",
    "      \\n{classification_report (y_test , y_pred , target_names = ['Neg' , 'Pos']) }\")"
   ]
  },
  {
   "cell_type": "code",
   "execution_count": null,
   "metadata": {
    "id": "u-hAZ3W6FXem",
    "outputId": "c8b0f9a3-58bc-47b3-c721-07ed83a69e92"
   },
   "outputs": [
    {
     "name": "stdout",
     "output_type": "stream",
     "text": [
      "{'hidden_layer_sizes': [(70, 55, 70), 100], 'activation': ['identity', 'logistic', 'tanh', 'relu'], 'solver': ['lbfgs', 'sgd', 'adam'], 'alpha': [0.001, 0.005], 'learning_rate': ['constant', 'invscaling', 'adaptive']}\n"
     ]
    },
    {
     "data": {
      "text/plain": [
       "GridSearchCV(cv=10,\n",
       "             estimator=MLPClassifier(early_stopping=True, max_iter=1000,\n",
       "                                     n_iter_no_change=20),\n",
       "             n_jobs=-1,\n",
       "             param_grid={'activation': ['identity', 'logistic', 'tanh', 'relu'],\n",
       "                         'alpha': [0.001, 0.005],\n",
       "                         'hidden_layer_sizes': [(70, 55, 70), 100],\n",
       "                         'learning_rate': ['constant', 'invscaling',\n",
       "                                           'adaptive'],\n",
       "                         'solver': ['lbfgs', 'sgd', 'adam']})"
      ]
     },
     "execution_count": 15,
     "metadata": {
      "tags": []
     },
     "output_type": "execute_result"
    }
   ],
   "source": [
    "from sklearn.model_selection import GridSearchCV\n",
    "from sklearn.neural_network import MLPClassifier\n",
    "Nn_tuning = MLPClassifier(max_iter=1000 , early_stopping=True , n_iter_no_change=20 )\n",
    "hidden_layer_sizes = [(70,55,70),(100)]\n",
    "activation = [\"identity\" , \"logistic\" , \"tanh\" ,\"relu\"]\n",
    "solver = [\"lbfgs\" , \"sgd\" ,\"adam\"]\n",
    "alpha = [0.001 , 0.005 ]\n",
    "learning_rate = ['constant' , 'invscaling' ,'adaptive']\n",
    "\n",
    "param_grid = dict(hidden_layer_sizes= hidden_layer_sizes , activation=activation,\n",
    "                  solver=solver , alpha=alpha , learning_rate = learning_rate)\n",
    "grid = GridSearchCV(Nn_tuning , param_grid ,n_jobs= -1 , cv=10 )\n",
    "print(param_grid)\n",
    "grid.fit(X_train , y_train)"
   ]
  },
  {
   "cell_type": "code",
   "execution_count": null,
   "metadata": {
    "id": "vx02pxcfFXen",
    "outputId": "e56f6fa2-83a3-4a87-8bbe-54d47b7836fb"
   },
   "outputs": [
    {
     "name": "stdout",
     "output_type": "stream",
     "text": [
      "Good parameters : {'activation': 'relu', 'alpha': 0.005, 'hidden_layer_sizes': (70, 55, 70), 'learning_rate': 'invscaling', 'solver': 'adam'}\n"
     ]
    }
   ],
   "source": [
    "print(f\"Good parameters : {grid.best_params_}\")"
   ]
  },
  {
   "cell_type": "markdown",
   "metadata": {
    "id": "oM0_bdfrFXen"
   },
   "source": [
    "# 3 Text Clustering\n",
    "We have heard about Google News clustering. In this exercise, we are going to implement it with Python.\n",
    "\n",
    "## 3.1 Data Preprocessing\n",
    "Let’s switch up and use another dataset called 20newsgroup data, which is a collection of approximately 20,000 newsgroup documents, partitioned (nearly) evenly across 20 different newsgroups. The data is collected from a university’s mailing list, where students exchange opinions in everything from motorcycles to middle east politics.\n",
    "\n",
    "1. Import data using sklearn.datasets.fetch_20newsgroups \n",
    "2. Transform data to vector with TfidfVectorizer"
   ]
  },
  {
   "cell_type": "code",
   "execution_count": 93,
   "metadata": {
    "id": "l0hZMu84FXen"
   },
   "outputs": [],
   "source": [
    "from sklearn.datasets import fetch_20newsgroups\n",
    "\n",
    "newsgroups_train = fetch_20newsgroups(subset='train')"
   ]
  },
  {
   "cell_type": "code",
   "execution_count": 94,
   "metadata": {
    "id": "pz6pWY3NFXeo"
   },
   "outputs": [],
   "source": [
    "data = newsgroups_train.data"
   ]
  },
  {
   "cell_type": "code",
   "execution_count": 95,
   "metadata": {
    "id": "kdmnjHx9FXeo"
   },
   "outputs": [],
   "source": [
    "labels = newsgroups_train.target"
   ]
  },
  {
   "cell_type": "code",
   "execution_count": 78,
   "metadata": {
    "id": "9h8jBkGBFXeo",
    "outputId": "1df10c98-22a6-456d-d9a8-3f9b4b7aaef0"
   },
   "outputs": [
    {
     "data": {
      "text/plain": [
       "array([7, 4, 4, ..., 3, 1, 8])"
      ]
     },
     "execution_count": 78,
     "metadata": {},
     "output_type": "execute_result"
    }
   ],
   "source": [
    "labels"
   ]
  },
  {
   "cell_type": "code",
   "execution_count": 79,
   "metadata": {
    "id": "lbIJtdOIFXeo",
    "outputId": "885a8af5-8546-449b-c0e3-2be1bb252315"
   },
   "outputs": [
    {
     "data": {
      "text/plain": [
       "20"
      ]
     },
     "execution_count": 79,
     "metadata": {},
     "output_type": "execute_result"
    }
   ],
   "source": [
    "import numpy as np\n",
    "true_k = np.unique(labels).shape[0]\n",
    "true_k"
   ]
  },
  {
   "cell_type": "code",
   "execution_count": 80,
   "metadata": {
    "id": "jUDJ1KDSFXep",
    "outputId": "70fedf99-d6af-4c11-b0e4-8eede8f6fb80"
   },
   "outputs": [
    {
     "data": {
      "text/plain": [
       "((11314,), (11314,))"
      ]
     },
     "execution_count": 80,
     "metadata": {},
     "output_type": "execute_result"
    }
   ],
   "source": [
    "newsgroups_train.filenames.shape , newsgroups_train.target.shape"
   ]
  },
  {
   "cell_type": "code",
   "execution_count": 81,
   "metadata": {
    "id": "JqtN5C1TFXep",
    "outputId": "bfb6cffb-4823-4aa3-8c4f-8258b8fc18b7"
   },
   "outputs": [
    {
     "name": "stdout",
     "output_type": "stream",
     "text": [
      "['alt.atheism',\n",
      " 'comp.graphics',\n",
      " 'comp.os.ms-windows.misc',\n",
      " 'comp.sys.ibm.pc.hardware',\n",
      " 'comp.sys.mac.hardware',\n",
      " 'comp.windows.x',\n",
      " 'misc.forsale',\n",
      " 'rec.autos',\n",
      " 'rec.motorcycles',\n",
      " 'rec.sport.baseball',\n",
      " 'rec.sport.hockey',\n",
      " 'sci.crypt',\n",
      " 'sci.electronics',\n",
      " 'sci.med',\n",
      " 'sci.space',\n",
      " 'soc.religion.christian',\n",
      " 'talk.politics.guns',\n",
      " 'talk.politics.mideast',\n",
      " 'talk.politics.misc',\n",
      " 'talk.religion.misc']\n"
     ]
    }
   ],
   "source": [
    "from pprint import pprint\n",
    "pprint(list(newsgroups_train.target_names))"
   ]
  },
  {
   "cell_type": "code",
   "execution_count": 82,
   "metadata": {
    "id": "cEY5cti_FXep"
   },
   "outputs": [],
   "source": [
    "from sklearn.feature_extraction.text import TfidfVectorizer,CountVectorizer,TfidfTransformer\n",
    "from sklearn.pipeline import Pipeline\n",
    "categories = list(newsgroups_train.target_names)\n",
    "newsgroups_train = fetch_20newsgroups(subset='train' , categories=categories)\n",
    "\n",
    "vectorizer = TfidfVectorizer( stop_words='english' , analyzer = 'word')\n",
    "X = vectorizer.fit_transform(newsgroups_train.data)"
   ]
  },
  {
   "cell_type": "code",
   "execution_count": 83,
   "metadata": {
    "id": "LiFRfJ_HFXeq",
    "outputId": "e6157984-62f6-4782-cbdb-b043f50f482e"
   },
   "outputs": [
    {
     "name": "stderr",
     "output_type": "stream",
     "text": [
      "IOPub data rate exceeded.\n",
      "The notebook server will temporarily stop sending output\n",
      "to the client in order to avoid crashing it.\n",
      "To change this limit, set the config variable\n",
      "`--NotebookApp.iopub_data_rate_limit`.\n",
      "\n",
      "Current values:\n",
      "NotebookApp.iopub_data_rate_limit=1000000.0 (bytes/sec)\n",
      "NotebookApp.rate_limit_window=3.0 (secs)\n",
      "\n"
     ]
    }
   ],
   "source": [
    "idf = vectorizer.idf_\n",
    "print(dict(zip(vectorizer.get_feature_names(),idf)))"
   ]
  },
  {
   "cell_type": "code",
   "execution_count": 84,
   "metadata": {
    "id": "DWbcVsK0FXeq",
    "outputId": "c2e9c8d4-de26-4f55-9544-0c96413ae393"
   },
   "outputs": [
    {
     "data": {
      "text/plain": [
       "(11314, 129796)"
      ]
     },
     "execution_count": 84,
     "metadata": {},
     "output_type": "execute_result"
    }
   ],
   "source": [
    "X.shape"
   ]
  },
  {
   "cell_type": "markdown",
   "metadata": {
    "id": "kIFtVF3ZFXeq"
   },
   "source": [
    "## 3.2 Clustering\n",
    "We are going to use the simplest clustering model, k-means clustering, to do this task. Our hope is that this simple algorithm will result in meaningful news categories, without using labels.\n",
    "\n",
    "1. Fit K-Means clustering model to the text vector. What is the value of K you should pick? Why?\n",
    "2. Use Silhouette score to evaluate your clusters. Try to evaluate the model for different values of k to see which k fits best for the dataset."
   ]
  },
  {
   "cell_type": "code",
   "execution_count": 85,
   "metadata": {
    "id": "cJ-js0v0FXeq",
    "outputId": "7fe25037-52c0-40c7-d5cd-6796cf46314e"
   },
   "outputs": [
    {
     "name": "stdout",
     "output_type": "stream",
     "text": [
      "CPU times: user 38.5 s, sys: 459 ms, total: 39 s\n",
      "Wall time: 5.77 s\n",
      "For n_clusters = 2 The average silhouette_score is : 0.0016376013719498323\n",
      "CPU times: user 39.7 s, sys: 357 ms, total: 40.1 s\n",
      "Wall time: 5.94 s\n",
      "For n_clusters = 3 The average silhouette_score is : 0.0019373149769593059\n",
      "CPU times: user 1min 3s, sys: 618 ms, total: 1min 4s\n",
      "Wall time: 9.33 s\n",
      "For n_clusters = 4 The average silhouette_score is : 0.0022808548130325364\n",
      "CPU times: user 1min 24s, sys: 705 ms, total: 1min 24s\n",
      "Wall time: 12.5 s\n",
      "For n_clusters = 5 The average silhouette_score is : 0.0022802429886691973\n",
      "CPU times: user 1min 38s, sys: 1.03 s, total: 1min 39s\n",
      "Wall time: 15.1 s\n",
      "For n_clusters = 6 The average silhouette_score is : 0.002819323912919021\n",
      "CPU times: user 1min 39s, sys: 1.08 s, total: 1min 40s\n",
      "Wall time: 15.5 s\n",
      "For n_clusters = 7 The average silhouette_score is : 0.0031190152118323895\n",
      "CPU times: user 1min 59s, sys: 1.23 s, total: 2min 1s\n",
      "Wall time: 18.7 s\n",
      "For n_clusters = 8 The average silhouette_score is : 0.003801534225081118\n",
      "CPU times: user 2min 3s, sys: 1.32 s, total: 2min 5s\n",
      "Wall time: 19.7 s\n",
      "For n_clusters = 9 The average silhouette_score is : 0.004135617245072058\n",
      "CPU times: user 2min 6s, sys: 1.36 s, total: 2min 7s\n",
      "Wall time: 20.3 s\n",
      "For n_clusters = 10 The average silhouette_score is : 0.0041580040791949074\n",
      "CPU times: user 2min 35s, sys: 1.7 s, total: 2min 37s\n",
      "Wall time: 25.5 s\n",
      "For n_clusters = 11 The average silhouette_score is : 0.004634428715362065\n",
      "CPU times: user 2min 21s, sys: 1.48 s, total: 2min 22s\n",
      "Wall time: 23.2 s\n",
      "For n_clusters = 12 The average silhouette_score is : 0.004855585745390654\n",
      "CPU times: user 3min 14s, sys: 2.24 s, total: 3min 16s\n",
      "Wall time: 33.5 s\n",
      "For n_clusters = 13 The average silhouette_score is : 0.004838180804806398\n",
      "CPU times: user 3min 2s, sys: 2.27 s, total: 3min 4s\n",
      "Wall time: 32.4 s\n",
      "For n_clusters = 14 The average silhouette_score is : 0.005130118901983481\n",
      "CPU times: user 3min 39s, sys: 2.78 s, total: 3min 42s\n",
      "Wall time: 39.9 s\n",
      "For n_clusters = 15 The average silhouette_score is : 0.005461358890546025\n",
      "CPU times: user 3min 41s, sys: 4.53 s, total: 3min 46s\n",
      "Wall time: 43.1 s\n",
      "For n_clusters = 16 The average silhouette_score is : 0.0063245985555834775\n",
      "CPU times: user 3min 49s, sys: 5.11 s, total: 3min 54s\n",
      "Wall time: 44.9 s\n",
      "For n_clusters = 17 The average silhouette_score is : 0.006621402171186809\n",
      "CPU times: user 4min 32s, sys: 5.65 s, total: 4min 37s\n",
      "Wall time: 53.1 s\n",
      "For n_clusters = 18 The average silhouette_score is : 0.006278427637876618\n",
      "CPU times: user 4min 18s, sys: 5.69 s, total: 4min 24s\n",
      "Wall time: 57.2 s\n",
      "For n_clusters = 19 The average silhouette_score is : 0.0065900728040751535\n",
      "CPU times: user 4min 9s, sys: 5.87 s, total: 4min 15s\n",
      "Wall time: 57.4 s\n",
      "For n_clusters = 20 The average silhouette_score is : 0.007128332081493478\n"
     ]
    }
   ],
   "source": [
    "from sklearn.cluster import KMeans\n",
    "from sklearn import metrics\n",
    "import matplotlib.pyplot as plt\n",
    "import numpy as np \n",
    "np.random.seed(42)\n",
    "score = []\n",
    "# ค่า k จริงๆ ที่เราจะใช้เราจะต้องดูตามความเหมาะสม เดี๋ยวจะวน loop เพื่อหาค่า k ที่ดีที่สุด เราจะดูจากค่า Shilshouette_score\n",
    "for i in range(2 , 21, 1):\n",
    "    Km = KMeans(n_clusters=i )\n",
    "    %time Km.fit(X)\n",
    "    silhouette_avg = metrics.silhouette_score(X ,Km.labels_)\n",
    "    score.append(silhouette_avg)\n",
    "    print(\"For n_clusters =\", i,\n",
    "          \"The average silhouette_score is :\", silhouette_avg)\n",
    "    \n",
    "# print(f\"V-measure  : {metrics.v_measure_score(labels , Km.labels_):.2f} \")\n",
    "# print(f\"Silhouette : {metrics.silhouette_score(X ,Km.labels_ , sample_size=1000):.4f}\")\n"
   ]
  },
  {
   "cell_type": "code",
   "execution_count": 86,
   "metadata": {
    "id": "Yf0ZINzKFXer",
    "outputId": "036a06dc-844b-4e03-f58b-aa49879ee837"
   },
   "outputs": [
    {
     "data": {
      "text/plain": [
       "20"
      ]
     },
     "execution_count": 86,
     "metadata": {},
     "output_type": "execute_result"
    }
   ],
   "source": [
    "k = score.index(max(score)) +2 \n",
    "k"
   ]
  },
  {
   "cell_type": "markdown",
   "metadata": {
    "id": "Ll2_MhmtFXer"
   },
   "source": [
    "# 3.3 Topic Terms\n",
    "We want to explore each cluster to understand what news articles are in the cluster, what terms are associated with the cluster. This will require a bit of hacking.\n",
    "1. Use TfidfVectorizer.get feature names to extract words associated with each dimension of the text vector.\n",
    "2. Extract cluster’s centroids using kmeans.cluster centers .\n",
    "3. For each centroid, print the top 15 words that have the highest frequency."
   ]
  },
  {
   "cell_type": "code",
   "execution_count": 87,
   "metadata": {
    "id": "lnONZRteFXer",
    "outputId": "ffd3abd2-3688-426e-f517-b4bef9b42923"
   },
   "outputs": [
    {
     "data": {
      "text/plain": [
       "['00',\n",
       " '000',\n",
       " '0000',\n",
       " '00000',\n",
       " '000000',\n",
       " '00000000',\n",
       " '0000000004',\n",
       " '0000000005',\n",
       " '00000000b',\n",
       " '00000001',\n",
       " '00000001b',\n",
       " '0000000667',\n",
       " '00000010',\n",
       " '00000010b',\n",
       " '00000011',\n",
       " '00000011b',\n",
       " '0000001200',\n",
       " '00000074',\n",
       " '00000093',\n",
       " '000000e5',\n",
       " '00000100',\n",
       " '00000100b',\n",
       " '00000101',\n",
       " '00000101b',\n",
       " '00000110',\n",
       " '00000110b',\n",
       " '00000111',\n",
       " '00000111b',\n",
       " '00000315',\n",
       " '000005102000',\n",
       " '00000510200001',\n",
       " '000007',\n",
       " '00000ee5',\n",
       " '00001000',\n",
       " '00001000b',\n",
       " '00001001',\n",
       " '00001001b',\n",
       " '00001010',\n",
       " '00001010b',\n",
       " '00001011',\n",
       " '00001011b',\n",
       " '000010af',\n",
       " '00001100',\n",
       " '00001100b',\n",
       " '00001101',\n",
       " '00001101b',\n",
       " '00001110',\n",
       " '00001110b',\n",
       " '00001111',\n",
       " '00001111b',\n",
       " '000021',\n",
       " '000042',\n",
       " '000062david42',\n",
       " '000094',\n",
       " '0000vec',\n",
       " '0001',\n",
       " '00010000',\n",
       " '00010000b',\n",
       " '00010001',\n",
       " '00010001b',\n",
       " '00010010',\n",
       " '00010010b',\n",
       " '00010011',\n",
       " '00010011b',\n",
       " '000100255pixel',\n",
       " '00010100',\n",
       " '00010100b',\n",
       " '00010101',\n",
       " '00010101b',\n",
       " '00010110',\n",
       " '00010110b',\n",
       " '00010111',\n",
       " '00010111b',\n",
       " '00011000',\n",
       " '00011000b',\n",
       " '00011001',\n",
       " '00011001b',\n",
       " '00011010',\n",
       " '00011010b',\n",
       " '00011011',\n",
       " '00011011b',\n",
       " '00011100',\n",
       " '00011100b',\n",
       " '00011101',\n",
       " '00011101b',\n",
       " '00011110',\n",
       " '00011110b',\n",
       " '00011111',\n",
       " '00011111b',\n",
       " '00014',\n",
       " '000152',\n",
       " '0001mpc',\n",
       " '0001x7c',\n",
       " '0002',\n",
       " '000246',\n",
       " '000256',\n",
       " '0003',\n",
       " '000359',\n",
       " '0004',\n",
       " '000406',\n",
       " '00041032',\n",
       " '000413',\n",
       " '0004136',\n",
       " '0004246',\n",
       " '0004422',\n",
       " '00044513',\n",
       " '0004847546',\n",
       " '0005',\n",
       " '0005111312',\n",
       " '0005111312na1em',\n",
       " '0005111312na3em',\n",
       " '000531',\n",
       " '0005895485',\n",
       " '000601',\n",
       " '0007',\n",
       " '000710',\n",
       " '00072',\n",
       " '0007259d',\n",
       " '00072741',\n",
       " '00072840',\n",
       " '00072a27',\n",
       " '000773b9',\n",
       " '00077bbe',\n",
       " '000851',\n",
       " '0009',\n",
       " '00090711',\n",
       " '000956',\n",
       " '000ds',\n",
       " '000k',\n",
       " '000mi',\n",
       " '000miles',\n",
       " '000rpm',\n",
       " '000s',\n",
       " '000th',\n",
       " '000usd',\n",
       " '001',\n",
       " '0010',\n",
       " '00100000',\n",
       " '00100000b',\n",
       " '00100001',\n",
       " '00100001b',\n",
       " '00100010',\n",
       " '00100010b',\n",
       " '00100011',\n",
       " '00100011b',\n",
       " '00100100',\n",
       " '00100100b',\n",
       " '00100101',\n",
       " '00100101b',\n",
       " '00100110',\n",
       " '00100110b',\n",
       " '00100111',\n",
       " '00100111b',\n",
       " '001004',\n",
       " '00101000',\n",
       " '00101000b',\n",
       " '00101001',\n",
       " '00101001b',\n",
       " '00101010',\n",
       " '00101010b',\n",
       " '00101011',\n",
       " '00101011b',\n",
       " '00101100',\n",
       " '00101100b',\n",
       " '00101101',\n",
       " '00101101b',\n",
       " '00101110',\n",
       " '00101110b',\n",
       " '00101111',\n",
       " '00101111b',\n",
       " '0010580b',\n",
       " '0011',\n",
       " '00110000',\n",
       " '00110000b',\n",
       " '00110001',\n",
       " '00110001b',\n",
       " '00110010',\n",
       " '00110010b',\n",
       " '00110011',\n",
       " '00110011b',\n",
       " '00110100',\n",
       " '00110100b',\n",
       " '00110101',\n",
       " '00110101b',\n",
       " '00110110',\n",
       " '00110110b',\n",
       " '00110111',\n",
       " '00110111b',\n",
       " '00111000',\n",
       " '00111000b',\n",
       " '00111001',\n",
       " '00111001b',\n",
       " '00111010',\n",
       " '00111010b',\n",
       " '00111011',\n",
       " '00111011b',\n",
       " '00111100',\n",
       " '00111100b',\n",
       " '00111101',\n",
       " '00111101b',\n",
       " '00111110',\n",
       " '00111110b',\n",
       " '00111111',\n",
       " '00111111b',\n",
       " '001116',\n",
       " '001125',\n",
       " '001127',\n",
       " '0012',\n",
       " '001200201pixel',\n",
       " '001211',\n",
       " '001230',\n",
       " '0013',\n",
       " '001319',\n",
       " '001321',\n",
       " '001323',\n",
       " '001338',\n",
       " '0014',\n",
       " '001428',\n",
       " '001555',\n",
       " '001642',\n",
       " '001707',\n",
       " '001718',\n",
       " '001757',\n",
       " '0018',\n",
       " '001813',\n",
       " '001934',\n",
       " '00196',\n",
       " '002',\n",
       " '0020',\n",
       " '002118',\n",
       " '002142',\n",
       " '0022',\n",
       " '002222',\n",
       " '002251w',\n",
       " '0023',\n",
       " '002302',\n",
       " '002339',\n",
       " '0024',\n",
       " '002651',\n",
       " '0028',\n",
       " '002811',\n",
       " '0029',\n",
       " '002937',\n",
       " '002d',\n",
       " '003',\n",
       " '0030',\n",
       " '003015',\n",
       " '003029',\n",
       " '00309',\n",
       " '00314',\n",
       " '003221',\n",
       " '003258u19250',\n",
       " '0033',\n",
       " '0034',\n",
       " '003522',\n",
       " '003719',\n",
       " '003749',\n",
       " '0038',\n",
       " '003800',\n",
       " '003848',\n",
       " '0039',\n",
       " '004',\n",
       " '0040000d',\n",
       " '004021809',\n",
       " '004158',\n",
       " '004253agrgb',\n",
       " '004325',\n",
       " '0044',\n",
       " '004418',\n",
       " '004532',\n",
       " '004627',\n",
       " '004808',\n",
       " '0049',\n",
       " '005',\n",
       " '00500',\n",
       " '005117',\n",
       " '005131',\n",
       " '005148',\n",
       " '005150',\n",
       " '005204',\n",
       " '005245',\n",
       " '005314',\n",
       " '005512',\n",
       " '005634',\n",
       " '0058',\n",
       " '0059',\n",
       " '006',\n",
       " '0060',\n",
       " '0062',\n",
       " '00630',\n",
       " '0065',\n",
       " '0066',\n",
       " '0068',\n",
       " '007',\n",
       " '0075',\n",
       " '0076',\n",
       " '0078',\n",
       " '0079',\n",
       " '008',\n",
       " '00800',\n",
       " '0082',\n",
       " '0084',\n",
       " '008561',\n",
       " '0086',\n",
       " '0087',\n",
       " '0088',\n",
       " '009',\n",
       " '00900001',\n",
       " '0094',\n",
       " '00969fba',\n",
       " '0096a95c',\n",
       " '0096b0f0',\n",
       " '0096b11b',\n",
       " '0096b130',\n",
       " '0096b294',\n",
       " '0098',\n",
       " '0099',\n",
       " '00_',\n",
       " '00acearl',\n",
       " '00am',\n",
       " '00bjgood',\n",
       " '00c',\n",
       " '00each',\n",
       " '00ecgillespi',\n",
       " '00ecgillespie',\n",
       " '00f',\n",
       " '00g',\n",
       " '00h',\n",
       " '00index',\n",
       " '00lz8bct',\n",
       " '00m',\n",
       " '00mbstultz',\n",
       " '00pm',\n",
       " '00q',\n",
       " '00r',\n",
       " '00tx',\n",
       " '00tzxb',\n",
       " '00tzxb2vyn',\n",
       " '00u',\n",
       " '00xkv',\n",
       " '01',\n",
       " '010',\n",
       " '0100',\n",
       " '01000',\n",
       " '01000000',\n",
       " '01000000b',\n",
       " '01000001',\n",
       " '01000001b',\n",
       " '01000010',\n",
       " '01000010b',\n",
       " '01000011',\n",
       " '01000011b',\n",
       " '01000100',\n",
       " '01000100b',\n",
       " '01000101',\n",
       " '01000101b',\n",
       " '01000110',\n",
       " '01000110b',\n",
       " '01000111',\n",
       " '01000111b',\n",
       " '01001000',\n",
       " '01001000b',\n",
       " '01001001',\n",
       " '01001001b',\n",
       " '01001010',\n",
       " '01001010b',\n",
       " '01001011',\n",
       " '01001011b',\n",
       " '01001100',\n",
       " '01001100b',\n",
       " '01001101',\n",
       " '01001101b',\n",
       " '01001110',\n",
       " '01001110b',\n",
       " '01001111',\n",
       " '01001111b',\n",
       " '01002',\n",
       " '01003',\n",
       " '01010000',\n",
       " '01010000b',\n",
       " '01010001',\n",
       " '01010001b',\n",
       " '01010010',\n",
       " '01010010b',\n",
       " '01010011',\n",
       " '01010011b',\n",
       " '01010100',\n",
       " '01010100b',\n",
       " '01010101',\n",
       " '01010101b',\n",
       " '01010110',\n",
       " '01010110b',\n",
       " '01010111',\n",
       " '01010111b',\n",
       " '01011000',\n",
       " '01011000b',\n",
       " '01011001',\n",
       " '01011001b',\n",
       " '01011010',\n",
       " '01011010b',\n",
       " '01011011',\n",
       " '01011011b',\n",
       " '01011100',\n",
       " '01011100b',\n",
       " '01011101',\n",
       " '01011101b',\n",
       " '01011110',\n",
       " '01011110b',\n",
       " '01011111',\n",
       " '01011111b',\n",
       " '010116',\n",
       " '010235',\n",
       " '010256',\n",
       " '010305',\n",
       " '010326',\n",
       " '010329',\n",
       " '01050810',\n",
       " '010517',\n",
       " '010533',\n",
       " '010702',\n",
       " '010734',\n",
       " '010745',\n",
       " '01075',\n",
       " '010808',\n",
       " '010821',\n",
       " '010834',\n",
       " '0109',\n",
       " '010908',\n",
       " '010955',\n",
       " '011',\n",
       " '01100000',\n",
       " '01100000b',\n",
       " '01100001',\n",
       " '01100001b',\n",
       " '01100010',\n",
       " '01100010b',\n",
       " '01100011',\n",
       " '01100011b',\n",
       " '01100100',\n",
       " '01100100b',\n",
       " '01100101',\n",
       " '01100101b',\n",
       " '01100110',\n",
       " '01100110b',\n",
       " '01100111',\n",
       " '01100111b',\n",
       " '01101000',\n",
       " '01101000b',\n",
       " '01101001',\n",
       " '01101001b',\n",
       " '01101010',\n",
       " '01101010b',\n",
       " '01101011',\n",
       " '01101011b',\n",
       " '01101100',\n",
       " '01101100b',\n",
       " '01101101',\n",
       " '01101101b',\n",
       " '01101110',\n",
       " '01101110b',\n",
       " '01101111',\n",
       " '01101111b',\n",
       " '011033',\n",
       " '011042',\n",
       " '0111',\n",
       " '01110000',\n",
       " '01110000b',\n",
       " '01110001',\n",
       " '01110001b',\n",
       " '01110010',\n",
       " '01110010b',\n",
       " '01110011',\n",
       " '01110011b',\n",
       " '01110100',\n",
       " '01110100b',\n",
       " '01110101',\n",
       " '01110101b',\n",
       " '01110110',\n",
       " '01110110b',\n",
       " '01110111',\n",
       " '01110111b',\n",
       " '01111000',\n",
       " '01111000b',\n",
       " '01111001',\n",
       " '01111001b',\n",
       " '01111010',\n",
       " '01111010b',\n",
       " '01111011',\n",
       " '01111011b',\n",
       " '01111100',\n",
       " '01111100b',\n",
       " '01111101',\n",
       " '01111101b',\n",
       " '01111110',\n",
       " '01111110b',\n",
       " '01111111',\n",
       " '01111111b',\n",
       " '011112',\n",
       " '0112',\n",
       " '011255',\n",
       " '011308pxf3',\n",
       " '0114',\n",
       " '0115',\n",
       " '011605',\n",
       " '011634edt',\n",
       " '011653',\n",
       " '011720',\n",
       " '011730',\n",
       " '011743',\n",
       " '011805',\n",
       " '011823',\n",
       " '011855',\n",
       " '0119',\n",
       " '012',\n",
       " '012011',\n",
       " '012019',\n",
       " '012344',\n",
       " '0123456789',\n",
       " '012451',\n",
       " '012536',\n",
       " '012537',\n",
       " '0126',\n",
       " '012714',\n",
       " '012946',\n",
       " '012c',\n",
       " '012i',\n",
       " '013',\n",
       " '013011',\n",
       " '013034',\n",
       " '013037',\n",
       " '0131',\n",
       " '013145',\n",
       " '0134',\n",
       " '013423tan102',\n",
       " '013433',\n",
       " '013559',\n",
       " '0136',\n",
       " '013611',\n",
       " '013651',\n",
       " '013653rap115',\n",
       " '013657',\n",
       " '013752',\n",
       " '0138',\n",
       " '013846',\n",
       " '013847',\n",
       " '0139',\n",
       " '013939',\n",
       " '014',\n",
       " '014135',\n",
       " '01420',\n",
       " '014237',\n",
       " '014305',\n",
       " '014506',\n",
       " '01451',\n",
       " '01463',\n",
       " '014638',\n",
       " '014646',\n",
       " '014t4',\n",
       " '015',\n",
       " '0150',\n",
       " '015043',\n",
       " '015209',\n",
       " '015225',\n",
       " '0154',\n",
       " '015415',\n",
       " '015442',\n",
       " '01545',\n",
       " '015518',\n",
       " '015551',\n",
       " '0158',\n",
       " '01580',\n",
       " '015844',\n",
       " '015908',\n",
       " '015931',\n",
       " '015936',\n",
       " '016',\n",
       " '01609',\n",
       " '0161',\n",
       " '0162',\n",
       " '0164',\n",
       " '0168',\n",
       " '01701',\n",
       " '01720',\n",
       " '01730',\n",
       " '01742',\n",
       " '01752',\n",
       " '01760',\n",
       " '01775',\n",
       " '01776',\n",
       " '0179',\n",
       " '018',\n",
       " '0180',\n",
       " '01800',\n",
       " '01801',\n",
       " '01803',\n",
       " '01810',\n",
       " '0182',\n",
       " '01821',\n",
       " '01826',\n",
       " '0183',\n",
       " '01830',\n",
       " '0184',\n",
       " '01852',\n",
       " '01854',\n",
       " '0186',\n",
       " '01867',\n",
       " '0188',\n",
       " '01880',\n",
       " '018801285',\n",
       " '01890',\n",
       " '018b',\n",
       " '019',\n",
       " '0192',\n",
       " '0195',\n",
       " '0199',\n",
       " '01_0',\n",
       " '01a',\n",
       " '01apr93',\n",
       " '01c',\n",
       " '01d',\n",
       " '01f6',\n",
       " '01h',\n",
       " '01h0',\n",
       " '01h5',\n",
       " '01ll',\n",
       " '01ne',\n",
       " '01o',\n",
       " '01ob',\n",
       " '01oe',\n",
       " '01wb',\n",
       " '02',\n",
       " '020',\n",
       " '0200',\n",
       " '02000',\n",
       " '020021',\n",
       " '020259',\n",
       " '02026',\n",
       " '0203',\n",
       " '020347',\n",
       " '020356',\n",
       " '020359',\n",
       " '020427',\n",
       " '0205',\n",
       " '020504',\n",
       " '020533',\n",
       " '020555',\n",
       " '020637',\n",
       " '020646',\n",
       " '020655',\n",
       " '020701tan102',\n",
       " '020751',\n",
       " '02086551',\n",
       " '0209',\n",
       " '020qw',\n",
       " '021',\n",
       " '021021',\n",
       " '02106',\n",
       " '021105',\n",
       " '02115',\n",
       " '021154',\n",
       " '02118',\n",
       " '021225',\n",
       " '02138',\n",
       " '02139',\n",
       " '02142',\n",
       " '02146',\n",
       " '02150',\n",
       " '02154',\n",
       " '0216',\n",
       " '02160',\n",
       " '021635',\n",
       " '02170289',\n",
       " '021708',\n",
       " '02172',\n",
       " '02173',\n",
       " '02174',\n",
       " '02178',\n",
       " '02180',\n",
       " '021846',\n",
       " '02194',\n",
       " '021lh2u',\n",
       " '022',\n",
       " '022011',\n",
       " '022113',\n",
       " '02215',\n",
       " '022218',\n",
       " '022222',\n",
       " '022233',\n",
       " '0223',\n",
       " '02238',\n",
       " '02254',\n",
       " '0226',\n",
       " '022621tan102',\n",
       " '0228',\n",
       " '02280936',\n",
       " '022903',\n",
       " '022922',\n",
       " '022926',\n",
       " '022947',\n",
       " '023',\n",
       " '023017',\n",
       " '023039',\n",
       " '023044',\n",
       " '0233',\n",
       " '023428',\n",
       " '0235',\n",
       " '0237',\n",
       " '023730',\n",
       " '023843',\n",
       " '0239',\n",
       " '023937',\n",
       " '023_',\n",
       " '023b',\n",
       " '024',\n",
       " '024036',\n",
       " '024103',\n",
       " '024128',\n",
       " '024150',\n",
       " '024222',\n",
       " '024246',\n",
       " '024257',\n",
       " '024423',\n",
       " '0245',\n",
       " '02451203',\n",
       " '024626',\n",
       " '024646',\n",
       " '024850',\n",
       " '024949',\n",
       " '025',\n",
       " '0250',\n",
       " '025027',\n",
       " '025031',\n",
       " '025240',\n",
       " '025258',\n",
       " '025426',\n",
       " '025636',\n",
       " '025818u28037',\n",
       " '025924',\n",
       " '02678944',\n",
       " '027',\n",
       " '0272',\n",
       " '0273',\n",
       " '0278',\n",
       " '0279',\n",
       " '02790',\n",
       " '027w',\n",
       " '028',\n",
       " '0280',\n",
       " '0283',\n",
       " '0284',\n",
       " '029',\n",
       " '02903',\n",
       " '02908',\n",
       " '02917',\n",
       " '0293',\n",
       " '02_',\n",
       " '02_8v',\n",
       " '02_9',\n",
       " '02at',\n",
       " '02bp1m51',\n",
       " '02bz',\n",
       " '02cents',\n",
       " '02d',\n",
       " '02h',\n",
       " '02ixl',\n",
       " '02j',\n",
       " '02l',\n",
       " '02m',\n",
       " '02njp',\n",
       " '02p',\n",
       " '02p4',\n",
       " '02qvq',\n",
       " '02r',\n",
       " '02r4e',\n",
       " '02s',\n",
       " '02t',\n",
       " '02tl',\n",
       " '02tm_',\n",
       " '02tmn',\n",
       " '02u',\n",
       " '02uv',\n",
       " '02v',\n",
       " '02va7pu',\n",
       " '02vx',\n",
       " '02vy',\n",
       " '02vyn',\n",
       " '02vz089',\n",
       " '02w',\n",
       " '02x',\n",
       " '03',\n",
       " '030',\n",
       " '0300',\n",
       " '03000',\n",
       " '030031',\n",
       " '0300ff',\n",
       " '030105',\n",
       " '0302',\n",
       " '030204',\n",
       " '0303',\n",
       " '030334',\n",
       " '030412',\n",
       " '03051',\n",
       " '030538',\n",
       " '03054',\n",
       " '0306',\n",
       " '030636',\n",
       " '030703',\n",
       " '030706',\n",
       " '030733mcartwr',\n",
       " '030734',\n",
       " '03083',\n",
       " '030934',\n",
       " '031',\n",
       " '031349',\n",
       " '0314',\n",
       " '031404',\n",
       " '031423',\n",
       " '031520',\n",
       " '031524',\n",
       " '031616',\n",
       " '0317',\n",
       " '031744',\n",
       " '0318',\n",
       " '031823',\n",
       " '031840',\n",
       " '031905saundrsg',\n",
       " '031l86',\n",
       " '0320',\n",
       " '032017',\n",
       " '032022',\n",
       " '032251',\n",
       " '032345',\n",
       " '032350',\n",
       " '0324',\n",
       " '032405',\n",
       " '032554',\n",
       " '032616mbs110',\n",
       " '032620',\n",
       " '032623',\n",
       " '032746',\n",
       " '032828',\n",
       " '032905',\n",
       " '033',\n",
       " '0330',\n",
       " '0332',\n",
       " '033213',\n",
       " '033230kevxu',\n",
       " '033258',\n",
       " '0334',\n",
       " '033446',\n",
       " '0335',\n",
       " '0338',\n",
       " '033802',\n",
       " '033843',\n",
       " '034',\n",
       " '0340',\n",
       " '034101',\n",
       " '034226',\n",
       " '034352',\n",
       " '034517',\n",
       " '0346',\n",
       " '034614',\n",
       " '0347',\n",
       " '034724',\n",
       " '034751',\n",
       " '0349',\n",
       " '035',\n",
       " '0350',\n",
       " '035020',\n",
       " '035125',\n",
       " '0353',\n",
       " '035406',\n",
       " '035544',\n",
       " '0356',\n",
       " '0357',\n",
       " '0358',\n",
       " '035941',\n",
       " '036',\n",
       " '0362',\n",
       " '0366',\n",
       " '0369',\n",
       " '037',\n",
       " '0372',\n",
       " '03756',\n",
       " '038',\n",
       " '0380',\n",
       " '03800',\n",
       " '0382',\n",
       " '03833',\n",
       " '0384',\n",
       " '038o8v',\n",
       " '039',\n",
       " '0391',\n",
       " '0395',\n",
       " '03_',\n",
       " '03e8',\n",
       " '03f',\n",
       " '03ho',\n",
       " '03hord',\n",
       " '03hz',\n",
       " '03hzri',\n",
       " '03i',\n",
       " '03i3',\n",
       " '03ii',\n",
       " '03imv',\n",
       " '03is',\n",
       " '03j1',\n",
       " '03j1d9',\n",
       " '03k',\n",
       " '03k8',\n",
       " '03k8rg',\n",
       " '03m4u',\n",
       " '03o',\n",
       " '03p',\n",
       " '03t',\n",
       " '03u',\n",
       " '03u0',\n",
       " '03vo',\n",
       " '03y',\n",
       " '03yqu',\n",
       " '04',\n",
       " '040',\n",
       " '0400',\n",
       " '0401',\n",
       " '040118',\n",
       " '040231',\n",
       " '040254',\n",
       " '040286',\n",
       " '0404',\n",
       " '040414',\n",
       " '040449',\n",
       " '04046',\n",
       " '040493023201',\n",
       " '040493161915',\n",
       " '0405',\n",
       " '040606',\n",
       " '040819',\n",
       " '040839',\n",
       " '040946',\n",
       " '041',\n",
       " '0410',\n",
       " '041033',\n",
       " '0411',\n",
       " '04110',\n",
       " '041300',\n",
       " '041343',\n",
       " '0414',\n",
       " '041411',\n",
       " '041493003715',\n",
       " '041505',\n",
       " '041741',\n",
       " '0418',\n",
       " '041810',\n",
       " '041929',\n",
       " '042',\n",
       " '042100',\n",
       " '0422',\n",
       " '042234',\n",
       " '0423',\n",
       " '042427',\n",
       " '042450',\n",
       " '04255',\n",
       " '042624',\n",
       " '042722mcartwr',\n",
       " '042749',\n",
       " '042918',\n",
       " '043',\n",
       " '0430',\n",
       " '043112',\n",
       " '0433nl',\n",
       " '0434',\n",
       " '043426',\n",
       " '0435',\n",
       " '043642',\n",
       " '043654',\n",
       " '0437',\n",
       " '043740',\n",
       " '0437643',\n",
       " '043935',\n",
       " '044',\n",
       " '0440',\n",
       " '044001',\n",
       " '044018',\n",
       " '044045',\n",
       " '044140',\n",
       " '044201',\n",
       " '044248',\n",
       " '0443',\n",
       " '044323',\n",
       " '0444',\n",
       " '044405',\n",
       " '0446',\n",
       " '044636',\n",
       " '04473',\n",
       " '044749',\n",
       " '044946',\n",
       " '044958',\n",
       " '045',\n",
       " '0450',\n",
       " '045019',\n",
       " ...]"
      ]
     },
     "execution_count": 87,
     "metadata": {},
     "output_type": "execute_result"
    }
   ],
   "source": [
    "vectorizer.get_feature_names()"
   ]
  },
  {
   "cell_type": "code",
   "execution_count": 88,
   "metadata": {
    "id": "dbPMz_k8FXes",
    "outputId": "81c51a9e-7557-420c-948f-7c334a754744",
    "pycharm": {
     "name": "#%%\n"
    }
   },
   "outputs": [
    {
     "name": "stdout",
     "output_type": "stream",
     "text": [
      "Cluster : 0\n",
      "keith\n",
      "caltech\n",
      "livesey\n",
      "morality\n",
      "sgi\n",
      "objective\n",
      "solntze\n",
      "wpd\n",
      "jon\n",
      "schneider\n",
      "cco\n",
      "allan\n",
      "moral\n",
      "edu\n",
      "atheists\n",
      "\n",
      "\n",
      "Cluster : 1\n",
      "car\n",
      "com\n",
      "cars\n",
      "edu\n",
      "___\n",
      "radar\n",
      "engine\n",
      "writes\n",
      "just\n",
      "article\n",
      "dealer\n",
      "good\n",
      "like\n",
      "don\n",
      "ca\n",
      "\n",
      "\n",
      "Cluster : 2\n",
      "com\n",
      "gun\n",
      "people\n",
      "edu\n",
      "don\n",
      "government\n",
      "guns\n",
      "think\n",
      "writes\n",
      "msg\n",
      "article\n",
      "just\n",
      "like\n",
      "fbi\n",
      "stratus\n",
      "\n",
      "\n",
      "Cluster : 3\n",
      "columbia\n",
      "gld\n",
      "cunixb\n",
      "cc\n",
      "dare\n",
      "gary\n",
      "edu\n",
      "keenan\n",
      "cunixa\n",
      "insurance\n",
      "pgf5\n",
      "garfiel\n",
      "domi\n",
      "cunixc\n",
      "freeman\n",
      "\n",
      "\n",
      "Cluster : 4\n",
      "virginia\n",
      "cramer\n",
      "optilink\n",
      "clayton\n",
      "kaldis\n",
      "edu\n",
      "gay\n",
      "men\n",
      "homosexual\n",
      "clas\n",
      "rutgers\n",
      "sexual\n",
      "com\n",
      "gsh7w\n",
      "university\n",
      "\n",
      "\n",
      "Cluster : 5\n",
      "key\n",
      "clipper\n",
      "encryption\n",
      "chip\n",
      "escrow\n",
      "keys\n",
      "government\n",
      "com\n",
      "crypto\n",
      "algorithm\n",
      "intercon\n",
      "secure\n",
      "nsa\n",
      "des\n",
      "amanda\n",
      "\n",
      "\n",
      "Cluster : 6\n",
      "mouse\n",
      "driver\n",
      "windows\n",
      "port\n",
      "edu\n",
      "com1\n",
      "cursor\n",
      "com3\n",
      "adb\n",
      "com\n",
      "irq\n",
      "diamond\n",
      "serial\n",
      "nlm\n",
      "sys\n",
      "\n",
      "\n",
      "Cluster : 7\n",
      "team\n",
      "game\n",
      "edu\n",
      "ca\n",
      "hockey\n",
      "players\n",
      "games\n",
      "year\n",
      "play\n",
      "season\n",
      "baseball\n",
      "nhl\n",
      "win\n",
      "league\n",
      "teams\n",
      "\n",
      "\n",
      "Cluster : 8\n",
      "window\n",
      "motif\n",
      "widget\n",
      "application\n",
      "server\n",
      "mit\n",
      "manager\n",
      "xterm\n",
      "com\n",
      "dresden\n",
      "tu\n",
      "uk\n",
      "problem\n",
      "windows\n",
      "edu\n",
      "\n",
      "\n",
      "Cluster : 9\n",
      "edu\n",
      "com\n",
      "subject\n",
      "lines\n",
      "organization\n",
      "university\n",
      "posting\n",
      "host\n",
      "nntp\n",
      "article\n",
      "writes\n",
      "know\n",
      "cs\n",
      "thanks\n",
      "like\n",
      "\n",
      "\n",
      "Cluster : 10\n",
      "god\n",
      "jesus\n",
      "christians\n",
      "bible\n",
      "people\n",
      "christian\n",
      "christ\n",
      "faith\n",
      "believe\n",
      "edu\n",
      "church\n",
      "christianity\n",
      "life\n",
      "don\n",
      "say\n",
      "\n",
      "\n",
      "Cluster : 11\n",
      "windows\n",
      "dos\n",
      "file\n",
      "access\n",
      "files\n",
      "edu\n",
      "card\n",
      "com\n",
      "digex\n",
      "graphics\n",
      "drivers\n",
      "program\n",
      "use\n",
      "ms\n",
      "lines\n",
      "\n",
      "\n",
      "Cluster : 12\n",
      "bike\n",
      "com\n",
      "dod\n",
      "sun\n",
      "edu\n",
      "behanna\n",
      "article\n",
      "ride\n",
      "nec\n",
      "helmet\n",
      "ca\n",
      "writes\n",
      "motorcycle\n",
      "dog\n",
      "bikes\n",
      "\n",
      "\n",
      "Cluster : 13\n",
      "ohio\n",
      "cleveland\n",
      "cwru\n",
      "edu\n",
      "magnus\n",
      "state\n",
      "acs\n",
      "freenet\n",
      "reserve\n",
      "ins\n",
      "western\n",
      "case\n",
      "university\n",
      "po\n",
      "nntp\n",
      "\n",
      "\n",
      "Cluster : 14\n",
      "henry\n",
      "alaska\n",
      "toronto\n",
      "zoo\n",
      "spencer\n",
      "aurora\n",
      "zoology\n",
      "nsmca\n",
      "edu\n",
      "space\n",
      "acad3\n",
      "moon\n",
      "utzoo\n",
      "work\n",
      "kipling\n",
      "\n",
      "\n",
      "Cluster : 15\n",
      "israel\n",
      "israeli\n",
      "jews\n",
      "arab\n",
      "jake\n",
      "arabs\n",
      "edu\n",
      "lebanese\n",
      "adam\n",
      "israelis\n",
      "policy\n",
      "cpr\n",
      "jewish\n",
      "lebanon\n",
      "hernlem\n",
      "\n",
      "\n",
      "Cluster : 16\n",
      "drive\n",
      "scsi\n",
      "ide\n",
      "controller\n",
      "drives\n",
      "bus\n",
      "hard\n",
      "disk\n",
      "floppy\n",
      "edu\n",
      "hd\n",
      "isa\n",
      "mac\n",
      "problem\n",
      "motherboard\n",
      "\n",
      "\n",
      "Cluster : 17\n",
      "turkish\n",
      "armenian\n",
      "armenians\n",
      "armenia\n",
      "turks\n",
      "argic\n",
      "serdar\n",
      "turkey\n",
      "genocide\n",
      "zuma\n",
      "sera\n",
      "soviet\n",
      "people\n",
      "greek\n",
      "azerbaijan\n",
      "\n",
      "\n",
      "Cluster : 18\n",
      "nasa\n",
      "gov\n",
      "space\n",
      "jpl\n",
      "larc\n",
      "baalke\n",
      "jsc\n",
      "gsfc\n",
      "higgins\n",
      "kelvin\n",
      "fnal\n",
      "center\n",
      "research\n",
      "howland\n",
      "propulsion\n",
      "\n",
      "\n",
      "Cluster : 19\n",
      "geb\n",
      "banks\n",
      "gordon\n",
      "pitt\n",
      "cs\n",
      "dsl\n",
      "n3jxp\n",
      "cadre\n",
      "chastity\n",
      "shameful\n",
      "skepticism\n",
      "intellect\n",
      "surrender\n",
      "edu\n",
      "pittsburgh\n",
      "\n",
      "\n"
     ]
    }
   ],
   "source": [
    "centroids = Km.cluster_centers_.argsort()[:,::-1]\n",
    "terms = vectorizer.get_feature_names() \n",
    "\n",
    "for i in range(k):\n",
    "    print(f\"Cluster : {i}\")\n",
    "    for j in centroids[i,:15]:\n",
    "        print(f'{terms[j]}')\n",
    "    print(\"\\n\")"
   ]
  },
  {
   "cell_type": "code",
   "execution_count": 96,
   "metadata": {
    "id": "3RUEEfh6FXet",
    "outputId": "f0bf96aa-ccd7-42a8-9f92-0ce0f48490d1"
   },
   "outputs": [
    {
     "data": {
      "text/plain": [
       "7"
      ]
     },
     "execution_count": 96,
     "metadata": {},
     "output_type": "execute_result"
    }
   ],
   "source": [
    "test_data = vectorizer.transform([data[400]])\n",
    "Km = KMeans(n_clusters=20)\n",
    "model = Km.fit(X)\n",
    "clu = model.predict(test_data)[0]\n",
    "clu"
   ]
  },
  {
   "cell_type": "code",
   "execution_count": 97,
   "metadata": {},
   "outputs": [
    {
     "data": {
      "text/plain": [
       "\"From: hooper@ccs.QueensU.CA (Andy Hooper)\\nSubject: Re: text of White House announcement and Q&As on clipper chip encryption\\nOrganization: Queen's University, Kingston\\nDistribution: na\\nLines: 3\\n\\nIsn't Clipper a trademark of Fairchild Semiconductor?\\n\\nAndy Hooper\\n\""
      ]
     },
     "execution_count": 97,
     "metadata": {},
     "output_type": "execute_result"
    }
   ],
   "source": [
    "data[400]"
   ]
  },
  {
   "cell_type": "code",
   "execution_count": null,
   "metadata": {},
   "outputs": [],
   "source": []
  }
 ],
 "metadata": {
  "colab": {
   "name": "lab02_61340500038.ipynb",
   "provenance": []
  },
  "kernelspec": {
   "display_name": "Python 3",
   "language": "python",
   "name": "python3"
  },
  "language_info": {
   "codemirror_mode": {
    "name": "ipython",
    "version": 3
   },
   "file_extension": ".py",
   "mimetype": "text/x-python",
   "name": "python",
   "nbconvert_exporter": "python",
   "pygments_lexer": "ipython3",
   "version": "3.8.8"
  }
 },
 "nbformat": 4,
 "nbformat_minor": 1
}
